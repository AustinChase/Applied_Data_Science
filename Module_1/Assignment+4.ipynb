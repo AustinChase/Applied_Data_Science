{
 "cells": [
  {
   "cell_type": "markdown",
   "metadata": {},
   "source": [
    "---\n",
    "\n",
    "_You are currently looking at **version 1.1** of this notebook. To download notebooks and datafiles, as well as get help on Jupyter notebooks in the Coursera platform, visit the [Jupyter Notebook FAQ](https://www.coursera.org/learn/python-data-analysis/resources/0dhYG) course resource._\n",
    "\n",
    "---"
   ]
  },
  {
   "cell_type": "code",
   "execution_count": 48,
   "metadata": {
    "collapsed": true
   },
   "outputs": [],
   "source": [
    "import pandas as pd\n",
    "import numpy as np\n",
    "from scipy.stats import ttest_ind"
   ]
  },
  {
   "cell_type": "markdown",
   "metadata": {},
   "source": [
    "# Assignment 4 - Hypothesis Testing\n",
    "This assignment requires more individual learning than previous assignments - you are encouraged to check out the [pandas documentation](http://pandas.pydata.org/pandas-docs/stable/) to find functions or methods you might not have used yet, or ask questions on [Stack Overflow](http://stackoverflow.com/) and tag them as pandas and python related. And of course, the discussion forums are open for interaction with your peers and the course staff.\n",
    "\n",
    "Definitions:\n",
    "* A _quarter_ is a specific three month period, Q1 is January through March, Q2 is April through June, Q3 is July through September, Q4 is October through December.\n",
    "* A _recession_ is defined as starting with two consecutive quarters of GDP decline, and ending with two consecutive quarters of GDP growth.\n",
    "* A _recession bottom_ is the quarter within a recession which had the lowest GDP.\n",
    "* A _university town_ is a city which has a high percentage of university students compared to the total population of the city.\n",
    "\n",
    "**Hypothesis**: University towns have their mean housing prices less effected by recessions. Run a t-test to compare the ratio of the mean price of houses in university towns the quarter before the recession starts compared to the recession bottom. (`price_ratio=quarter_before_recession/recession_bottom`)\n",
    "\n",
    "The following data files are available for this assignment:\n",
    "* From the [Zillow research data site](http://www.zillow.com/research/data/) there is housing data for the United States. In particular the datafile for [all homes at a city level](http://files.zillowstatic.com/research/public/City/City_Zhvi_AllHomes.csv), ```City_Zhvi_AllHomes.csv```, has median home sale prices at a fine grained level.\n",
    "* From the Wikipedia page on college towns is a list of [university towns in the United States](https://en.wikipedia.org/wiki/List_of_college_towns#College_towns_in_the_United_States) which has been copy and pasted into the file ```university_towns.txt```.\n",
    "* From Bureau of Economic Analysis, US Department of Commerce, the [GDP over time](http://www.bea.gov/national/index.htm#gdp) of the United States in current dollars (use the chained value in 2009 dollars), in quarterly intervals, in the file ```gdplev.xls```. For this assignment, only look at GDP data from the first quarter of 2000 onward.\n",
    "\n",
    "Each function in this assignment below is worth 10%, with the exception of ```run_ttest()```, which is worth 50%."
   ]
  },
  {
   "cell_type": "code",
   "execution_count": 38,
   "metadata": {
    "collapsed": true
   },
   "outputs": [],
   "source": [
    "# Use this dictionary to map state names to two letter acronyms\n",
    "states = {'OH': 'Ohio', 'KY': 'Kentucky', 'AS': 'American Samoa', 'NV': 'Nevada', 'WY': 'Wyoming', 'NA': 'National', 'AL': 'Alabama', 'MD': 'Maryland', 'AK': 'Alaska', 'UT': 'Utah', 'OR': 'Oregon', 'MT': 'Montana', 'IL': 'Illinois', 'TN': 'Tennessee', 'DC': 'District of Columbia', 'VT': 'Vermont', 'ID': 'Idaho', 'AR': 'Arkansas', 'ME': 'Maine', 'WA': 'Washington', 'HI': 'Hawaii', 'WI': 'Wisconsin', 'MI': 'Michigan', 'IN': 'Indiana', 'NJ': 'New Jersey', 'AZ': 'Arizona', 'GU': 'Guam', 'MS': 'Mississippi', 'PR': 'Puerto Rico', 'NC': 'North Carolina', 'TX': 'Texas', 'SD': 'South Dakota', 'MP': 'Northern Mariana Islands', 'IA': 'Iowa', 'MO': 'Missouri', 'CT': 'Connecticut', 'WV': 'West Virginia', 'SC': 'South Carolina', 'LA': 'Louisiana', 'KS': 'Kansas', 'NY': 'New York', 'NE': 'Nebraska', 'OK': 'Oklahoma', 'FL': 'Florida', 'CA': 'California', 'CO': 'Colorado', 'PA': 'Pennsylvania', 'DE': 'Delaware', 'NM': 'New Mexico', 'RI': 'Rhode Island', 'MN': 'Minnesota', 'VI': 'Virgin Islands', 'NH': 'New Hampshire', 'MA': 'Massachusetts', 'GA': 'Georgia', 'ND': 'North Dakota', 'VA': 'Virginia'}"
   ]
  },
  {
   "cell_type": "code",
   "execution_count": 49,
   "metadata": {
    "collapsed": true,
    "umich_part_id": "021",
    "umich_partlist_id": "004"
   },
   "outputs": [],
   "source": [
    "def get_list_of_university_towns():\n",
    "    '''Returns a DataFrame of towns and the states they are in from the \n",
    "    university_towns.txt list. The format of the DataFrame should be:\n",
    "    DataFrame( [ [\"Michigan\", \"Ann Arbor\"], [\"Michigan\", \"Yipsilanti\"] ], \n",
    "    columns=[\"State\", \"RegionName\"]  )\n",
    "    \n",
    "    The following cleaning needs to be done:\n",
    "\n",
    "    1. For \"State\", removing characters from \"[\" to the end.\n",
    "    2. For \"RegionName\", when applicable, removing every character from \" (\" to the end.\n",
    "    3. Depending on how you read the data, you may need to remove newline character '\\n'. '''\n",
    "    \n",
    "    #extract and ffill were a life saver with this text file. State and city are both in one column in the data\n",
    "    #I used a regext pattern to extract the state name into a new column, then forward filled the state name until \n",
    "    #the next state was reached, and so on until the whole column was populated.\n",
    "    \n",
    "    university_towns = pd.read_csv(\"university_towns.txt\", sep = '\\n', header = None, names = [\"RegionName\"])\n",
    "    university_towns[\"State\"] = university_towns.iloc[:,0].str.extract(\"(.*)\\[edit\\]\", expand = False).ffill()\n",
    "    university_towns = university_towns.loc[~university_towns[\"RegionName\"].str.contains(\"\\[edit\\]\")] \n",
    "    #removes rows with state name from the RegionName column\n",
    "    \n",
    "    university_towns[\"RegionName\"].replace(\" \\((.*)\",\"\", inplace = True, regex = True) \n",
    "    #finds \" (\" and removes the expression and anything following.\n",
    "                                           \n",
    "    university_towns = university_towns.reindex(columns = [\"State\",\"RegionName\"])\n",
    "    university_towns.set_index([\"State\",\"RegionName\"], inplace = True, drop = False)\n",
    "     \n",
    "    return university_towns\n"
   ]
  },
  {
   "cell_type": "code",
   "execution_count": 50,
   "metadata": {
    "collapsed": true,
    "umich_part_id": "022",
    "umich_partlist_id": "004"
   },
   "outputs": [],
   "source": [
    "def get_recession_start():\n",
    "    '''Returns the year and quarter of the recession start time as a \n",
    "    string value in a format such as 2005q3'''\n",
    "        \n",
    "    #Created two new columns, one for the change in GDP quarter over quarter. \n",
    "    #The other column contains indicators for whether there was a two quarter decline in GDP\n",
    "    #Added an indicator variable for No_recession so only the beginning of the recession is recorded\n",
    "    \n",
    "    gdp = pd.read_excel(\"gdplev.xls\", skiprows = 8, header = None)\n",
    "    gdp = gdp.iloc[:,[4,6]].rename(columns = {4: \"Quarter\", 6: \"GDP 2009 Chained Value\"}) \n",
    "    gdp = gdp.loc[gdp[\"Quarter\"] >= \"2000q1\"]\n",
    "    gdp[\"Change in GDP\"] = 0\n",
    "    gdp[\"Recession Begin Indicator\"] = False\n",
    "    \n",
    "    recession = False\n",
    "    for i in range(len(gdp)-1):\n",
    "        gdp.iloc[i+1,2] = gdp.iloc[i+1,1] - gdp.iloc[i,1]\n",
    "        if gdp.iloc[i+1,2] < 0 and gdp.iloc[i,2] < 0 and recession == False:\n",
    "            gdp.iloc[i,3] = True\n",
    "            recession = True\n",
    "        else:\n",
    "            pass\n",
    "    \n",
    "    recession_start_series = gdp.loc[gdp[\"Recession Begin Indicator\"] == True,\"Quarter\"]       \n",
    "    recession_start = recession_start_series.iloc[0]\n",
    "                \n",
    "    return recession_start\n"
   ]
  },
  {
   "cell_type": "code",
   "execution_count": 51,
   "metadata": {
    "umich_part_id": "023",
    "umich_partlist_id": "004"
   },
   "outputs": [
    {
     "data": {
      "text/plain": [
       "'2009q4'"
      ]
     },
     "execution_count": 51,
     "metadata": {},
     "output_type": "execute_result"
    }
   ],
   "source": [
    "def get_recession_end():\n",
    "    '''Returns the year and quarter of the recession end time as a \n",
    "    string value in a format such as 2005q3'''\n",
    "    \n",
    "    #Uses same code from above to create the recession indicator column. Would have done this differently but the assignment \n",
    "    #requires get_recession_start() to return only a string value\n",
    "    \n",
    "    #created a new column for date time values using the \"Quarter\" column to compare the two quarters of consecutive growth to \n",
    "    #the beginning of the recession. This narrows down the recovery to after the recession takes place.\n",
    "    #works but code looks messy\n",
    "    \n",
    "    gdp = pd.read_excel(\"gdplev.xls\", skiprows = 8, header = None)\n",
    "    gdp = gdp.iloc[:,[4,6]].rename(columns = {4: \"Quarter\", 6: \"GDP 2009 Chained Value\"})\n",
    "    gdp = gdp.loc[gdp[\"Quarter\"] >= \"2000q1\"]\n",
    "    gdp[\"Change in GDP\"] = 0\n",
    "    gdp[\"Recession Begin Indicator\"] = False\n",
    "    gdp[\"Recession End Indicator\"] = False\n",
    "    gdp[\"Datetime\"] = pd.to_datetime(gdp[\"Quarter\"])\n",
    "    \n",
    "    recession = False\n",
    "    for i in range(len(gdp)-1):\n",
    "        gdp.iloc[i+1,2] = gdp.iloc[i+1,1] - gdp.iloc[i,1]\n",
    "        if gdp.iloc[i+1,2] < 0 and gdp.iloc[i,2] < 0 and recession == False:\n",
    "            gdp.iloc[i,3] = True\n",
    "            recession = True\n",
    "        else:\n",
    "            pass\n",
    "    \n",
    "    #new code starts here        \n",
    "    recession_start_index = gdp.loc[gdp[\"Recession Begin Indicator\"] == True,\"Datetime\"]\n",
    "    recession_start = recession_start_index.iloc[0]\n",
    "    \n",
    "    recovery = False\n",
    "    for i in range(len(gdp)-2):\n",
    "        if gdp.iloc[i+1,2] > 0 and gdp.iloc[i+2,2] > 0 and gdp.iloc[i+1,5] > recession_start and recovery == False:\n",
    "            gdp.iloc[i+2,4] = True\n",
    "            recovery = True\n",
    "            \n",
    "    recession_end_series = gdp.loc[gdp[\"Recession End Indicator\"] == True, \"Quarter\"]\n",
    "    recession_end = recession_end_series.iloc[0]\n",
    "    return recession_end\n"
   ]
  },
  {
   "cell_type": "code",
   "execution_count": null,
   "metadata": {
    "collapsed": true
   },
   "outputs": [],
   "source": []
  },
  {
   "cell_type": "code",
   "execution_count": 52,
   "metadata": {
    "scrolled": true,
    "umich_part_id": "024",
    "umich_partlist_id": "004"
   },
   "outputs": [
    {
     "data": {
      "text/plain": [
       "'2009q2'"
      ]
     },
     "execution_count": 52,
     "metadata": {},
     "output_type": "execute_result"
    }
   ],
   "source": [
    "def get_recession_bottom():\n",
    "    '''Returns the year and quarter of the recession bottom time as a \n",
    "    string value in a format such as 2005q3'''\n",
    "    \n",
    "    #uses the return values of get_recession_start() and get_recession_bottom() to create a new dataframe with only data \n",
    "    #between those two points in time, i.e. the recession period. Returns the quarter with the lowest GDP during the recession.\n",
    "    \n",
    "    gdp = pd.read_excel(\"gdplev.xls\", skiprows = 8, header = None)\n",
    "    gdp = gdp.iloc[:,[4,6]].rename(columns = {4: \"Quarter\", 6: \"GDP 2009 Chained Value\"})\n",
    "    gdp = gdp.loc[gdp[\"Quarter\"] >= \"2000q1\"]\n",
    "    gdp.set_index(keys = gdp[\"Quarter\"], inplace = True)\n",
    "        \n",
    "    recession_start = get_recession_start()\n",
    "    recession_end = get_recession_end()\n",
    "    recession = gdp.loc[recession_start:recession_end]\n",
    "    recession_bottom = recession[\"GDP 2009 Chained Value\"].argmin()\n",
    "        \n",
    "    return recession_bottom\n",
    "\n",
    "get_recession_bottom()\n"
   ]
  },
  {
   "cell_type": "code",
   "execution_count": 55,
   "metadata": {
    "collapsed": true,
    "scrolled": false,
    "umich_part_id": "025",
    "umich_partlist_id": "004"
   },
   "outputs": [],
   "source": [
    "def convert_housing_data_to_quarters():\n",
    "    '''Converts the housing data to quarters and returns it as mean \n",
    "    values in a dataframe. This dataframe should be a dataframe with\n",
    "    columns for 2000q1 through 2016q3, and should have a multi-index\n",
    "    in the shape of [\"State\",\"RegionName\"].\n",
    "        \n",
    "    Note: Quarters are defined in the assignment description, they are\n",
    "    not arbitrary three month periods.\n",
    "    \n",
    "    The resulting dataframe should have 67 columns, and 10,730 rows.\n",
    "    '''\n",
    "    #Replace state abbreviations with state names. Set State and RegionName as the multi-index.\n",
    "    #Convert columns of monthly data to quarters using pd.PeriodIndex, then group the data by quarter and appy the .mean() method\n",
    "    #to each quarter. rename columns to strings since pd.PeriodIndex returns column names as period-index objects\n",
    "    \n",
    "    states = {'OH': 'Ohio', 'KY': 'Kentucky', 'AS': 'American Samoa', 'NV': 'Nevada', 'WY': 'Wyoming', 'NA': 'National', 'AL': 'Alabama', 'MD': 'Maryland', 'AK': 'Alaska', 'UT': 'Utah', 'OR': 'Oregon', 'MT': 'Montana', 'IL': 'Illinois', 'TN': 'Tennessee', 'DC': 'District of Columbia', 'VT': 'Vermont', 'ID': 'Idaho', 'AR': 'Arkansas', 'ME': 'Maine', 'WA': 'Washington', 'HI': 'Hawaii', 'WI': 'Wisconsin', 'MI': 'Michigan', 'IN': 'Indiana', 'NJ': 'New Jersey', 'AZ': 'Arizona', 'GU': 'Guam', 'MS': 'Mississippi', 'PR': 'Puerto Rico', 'NC': 'North Carolina', 'TX': 'Texas', 'SD': 'South Dakota', 'MP': 'Northern Mariana Islands', 'IA': 'Iowa', 'MO': 'Missouri', 'CT': 'Connecticut', 'WV': 'West Virginia', 'SC': 'South Carolina', 'LA': 'Louisiana', 'KS': 'Kansas', 'NY': 'New York', 'NE': 'Nebraska', 'OK': 'Oklahoma', 'FL': 'Florida', 'CA': 'California', 'CO': 'Colorado', 'PA': 'Pennsylvania', 'DE': 'Delaware', 'NM': 'New Mexico', 'RI': 'Rhode Island', 'MN': 'Minnesota', 'VI': 'Virgin Islands', 'NH': 'New Hampshire', 'MA': 'Massachusetts', 'GA': 'Georgia', 'ND': 'North Dakota', 'VA': 'Virginia'}\n",
    "    housing_data = pd.read_csv(\"City_Zhvi_AllHomes.csv\")\n",
    "    housing_data[\"State\"].replace(states, inplace = True)\n",
    "    \n",
    "    housing_data.set_index([\"State\",\"RegionName\"], inplace = True)\n",
    "       \n",
    "    mean_qtr_housing_data = (housing_data.loc[:,\"2000-01\":\"2016-08\"].groupby(pd.PeriodIndex(housing_data.loc[:,\"2000-01\":\"2016-08\"],freq = 'Q'), axis = 1)\n",
    "                             .mean()\n",
    "                             .rename(columns = lambda c: str(c).lower()))    \n",
    "    \n",
    "    return mean_qtr_housing_data\n"
   ]
  },
  {
   "cell_type": "code",
   "execution_count": 57,
   "metadata": {
    "scrolled": true,
    "umich_part_id": "026",
    "umich_partlist_id": "004"
   },
   "outputs": [
    {
     "data": {
      "text/plain": [
       "(True, 0.0054964273536330264, 'university town')"
      ]
     },
     "execution_count": 57,
     "metadata": {},
     "output_type": "execute_result"
    }
   ],
   "source": [
    "def run_ttest():\n",
    "    '''First creates new data showing the decline or growth of housing prices\n",
    "    between the recession start and the recession bottom. Then runs a ttest\n",
    "    comparing the university town values to the non-university towns values, \n",
    "    return whether the alternative hypothesis (that the two groups are the same)\n",
    "    is true or not as well as the p-value of the confidence. \n",
    "    \n",
    "    Return the tuple (different, p, better) where different=True if the t-test is\n",
    "    True at a p<0.01 (we reject the null hypothesis), or different=False if \n",
    "    otherwise (we cannot reject the null hypothesis). The variable p should\n",
    "    be equal to the exact p value returned from scipy.stats.ttest_ind(). The\n",
    "    value for better should be either \"university town\" or \"non-university town\"\n",
    "    depending on which has a lower mean price ratio (which is equivilent to a\n",
    "    reduced market loss).'''\n",
    "    \n",
    "    #pulling everything together. Merge the university_towns df onto the mean_qtr_housing df and create an indicator column\n",
    "    #for whether the state/regionname is a university town or non-university town.\n",
    "    #use the college town indicator to create two separate dataframes, one containing only university towns and the other \n",
    "    #containing only non-university towns\n",
    "    #use the return values of recession_start and recession bottom to create two series (one of university town and one of non-university town)\n",
    "    #of price ratios, where price ratio = (quarter before recession)/(recession bottom) \n",
    "    #run a t test for difference of means to see if we can reject the null hypothesis at a significance level of 0.01\n",
    "    #return different if the p-value of the ttest <0.01, return the p value, and return the subset of data with the lower mean price ratio.\n",
    "    #a lower ratio indicates a smaller price difference from the beginning to the bottom of the recession\n",
    "    \n",
    "    mean_qtr_housing_data = convert_housing_data_to_quarters()\n",
    "    university_towns = get_list_of_university_towns()\n",
    "    recession_start = get_recession_start()\n",
    "    recession_end = get_recession_end()\n",
    "    recession_bottom = get_recession_bottom()\n",
    "    \n",
    "    mean_qtr1 = (mean_qtr_housing_data\n",
    "                 .merge(university_towns, how = \"left\", left_index = True, right_index = True))\n",
    "    \n",
    "    mean_qtr1[\"College Town Indicator\"] = False\n",
    "    for i in range(len(mean_qtr1)):\n",
    "        if pd.isnull(mean_qtr1.iloc[i,68]) == False:\n",
    "            mean_qtr1.iloc[i,69] = True\n",
    "            \n",
    "    mean_qtr1.drop([\"State\",\"RegionName\"],axis = 1, inplace = True)\n",
    "    \n",
    "    mean_qtr1_university_town = mean_qtr1.loc[mean_qtr1[\"College Town Indicator\"] == True,:]\n",
    "    mean_qtr1_non_university_town = mean_qtr1.loc[mean_qtr1[\"College Town Indicator\"] == False,:]\n",
    "    university_price_ratio = mean_qtr1_university_town[recession_start]/mean_qtr1_university_town[recession_bottom]\n",
    "    non_university_price_ratio = mean_qtr1_non_university_town[recession_start]/mean_qtr1_non_university_town[recession_bottom]\n",
    "    \n",
    "    ttest = ttest_ind(university_price_ratio,non_university_price_ratio, nan_policy = \"omit\")\n",
    "    \n",
    "    different, p, better = str, float, str    \n",
    "    p = ttest[1]\n",
    "    \n",
    "    if p < 0.01:\n",
    "        different = True\n",
    "    else:\n",
    "        different = False\n",
    "\n",
    "    if university_price_ratio.mean() < non_university_price_ratio.mean():\n",
    "        better = \"university town\"\n",
    "    else:\n",
    "        better = \"non-university town\"\n",
    "        \n",
    "    answer = (different, p, better)\n",
    "           \n",
    "    return answer\n"
   ]
  },
  {
   "cell_type": "code",
   "execution_count": null,
   "metadata": {
    "collapsed": true
   },
   "outputs": [],
   "source": []
  }
 ],
 "metadata": {
  "coursera": {
   "course_slug": "python-data-analysis",
   "graded_item_id": "Il9Fx",
   "launcher_item_id": "TeDW0",
   "part_id": "WGlun"
  },
  "kernelspec": {
   "display_name": "Python 3",
   "language": "python",
   "name": "python3"
  },
  "language_info": {
   "codemirror_mode": {
    "name": "ipython",
    "version": 3
   },
   "file_extension": ".py",
   "mimetype": "text/x-python",
   "name": "python",
   "nbconvert_exporter": "python",
   "pygments_lexer": "ipython3",
   "version": "3.6.2"
  },
  "umich": {
   "id": "Assignment 4",
   "version": "1.1"
  }
 },
 "nbformat": 4,
 "nbformat_minor": 1
}
