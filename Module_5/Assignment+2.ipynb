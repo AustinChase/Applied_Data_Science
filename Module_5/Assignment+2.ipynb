{
 "cells": [
  {
   "cell_type": "markdown",
   "metadata": {},
   "source": [
    "---\n",
    "\n",
    "_You are currently looking at **version 1.2** of this notebook. To download notebooks and datafiles, as well as get help on Jupyter notebooks in the Coursera platform, visit the [Jupyter Notebook FAQ](https://www.coursera.org/learn/python-social-network-analysis/resources/yPcBs) course resource._\n",
    "\n",
    "---"
   ]
  },
  {
   "cell_type": "markdown",
   "metadata": {},
   "source": [
    "# Assignment 2 - Network Connectivity\n",
    "\n",
    "In this assignment you will go through the process of importing and analyzing an internal email communication network between employees of a mid-sized manufacturing company. \n",
    "Each node represents an employee and each directed edge between two nodes represents an individual email. The left node represents the sender and the right node represents the recipient."
   ]
  },
  {
   "cell_type": "code",
   "execution_count": 1,
   "metadata": {
    "scrolled": false
   },
   "outputs": [
    {
     "name": "stdout",
     "output_type": "stream",
     "text": [
      "  #Sender Recipient        time\n",
      "0       1         2  1262454010\n",
      "1       1         3  1262454010\n",
      "2       1         4  1262454010\n",
      "3       1         5  1262454010\n",
      "4       1         6  1262454010\n",
      "5       1         7  1262454010\n",
      "6       1         8  1262454010\n",
      "7       1         9  1262454010\n",
      "8       1        10  1262454010\n",
      "9       1        11  1262454010\n"
     ]
    }
   ],
   "source": [
    "import networkx as nx\n",
    "import pandas as pd\n",
    "\n",
    "df = pd.read_csv('email_network.txt', delimiter = '\\t', dtype = 'str')\n",
    "# This line must be commented out when submitting to the autograder\n",
    "#!head email_network.txt\n",
    "print(df.head(10))"
   ]
  },
  {
   "cell_type": "markdown",
   "metadata": {},
   "source": [
    "### Question 1\n",
    "\n",
    "Using networkx, load up the directed multigraph from `email_network.txt`. Make sure the node names are strings.\n",
    "\n",
    "*This function should return a directed multigraph networkx graph.*"
   ]
  },
  {
   "cell_type": "code",
   "execution_count": 2,
   "metadata": {
    "scrolled": false
   },
   "outputs": [
    {
     "data": {
      "text/plain": [
       "<networkx.classes.multidigraph.MultiDiGraph at 0x7fa362fd5910>"
      ]
     },
     "execution_count": 2,
     "metadata": {},
     "output_type": "execute_result"
    }
   ],
   "source": [
    "def answer_one():\n",
    "     \n",
    "    G = nx.from_pandas_edgelist(df,'#Sender','Recipient',create_using=nx.MultiDiGraph())\n",
    "    #change from_pandas_dataframe to from_pandas_edgelist\n",
    "    \n",
    "    return G\n",
    "\n",
    "answer_one()"
   ]
  },
  {
   "cell_type": "markdown",
   "metadata": {},
   "source": [
    "### Question 2\n",
    "\n",
    "How many employees and emails are represented in the graph from Question 1?\n",
    "\n",
    "*This function should return a tuple (#employees, #emails).*"
   ]
  },
  {
   "cell_type": "code",
   "execution_count": 3,
   "metadata": {},
   "outputs": [
    {
     "data": {
      "text/plain": [
       "(167, 82927)"
      ]
     },
     "execution_count": 3,
     "metadata": {},
     "output_type": "execute_result"
    }
   ],
   "source": [
    "def answer_two():\n",
    "    \n",
    "    G = answer_one()\n",
    "    \n",
    "    num_employees = len(G.nodes())\n",
    "    num_emails = len(G.edges())\n",
    "    answer = (num_employees,num_emails)\n",
    "        \n",
    "    return answer\n",
    "\n",
    "answer_two()"
   ]
  },
  {
   "cell_type": "markdown",
   "metadata": {},
   "source": [
    "### Question 3\n",
    "\n",
    "* Part 1. Assume that information in this company can only be exchanged through email.\n",
    "\n",
    "    When an employee sends an email to another employee, a communication channel has been created, allowing the sender to provide information to the receiver, but not vice versa. \n",
    "\n",
    "    Based on the emails sent in the data, is it possible for information to go from every employee to every other employee?\n",
    "\n",
    "\n",
    "* Part 2. Now assume that a communication channel established by an email allows information to be exchanged both ways. \n",
    "\n",
    "    Based on the emails sent in the data, is it possible for information to go from every employee to every other employee?\n",
    "\n",
    "\n",
    "*This function should return a tuple of bools (part1, part2).*"
   ]
  },
  {
   "cell_type": "code",
   "execution_count": 4,
   "metadata": {},
   "outputs": [
    {
     "data": {
      "text/plain": [
       "(False, True)"
      ]
     },
     "execution_count": 4,
     "metadata": {},
     "output_type": "execute_result"
    }
   ],
   "source": [
    "def answer_three():\n",
    "        \n",
    "    G = answer_one()\n",
    "    \n",
    "    is_strongly_connected = nx.is_strongly_connected(G)\n",
    "    #a directed graph is strongly connected if every node is reachable from every other node\n",
    "    \n",
    "    is_weakly_connected = nx.is_weakly_connected(G)\n",
    "    #an undirected graph is weakly connected if it has at least one node and there is a path between \n",
    "    #every pair of nodes\n",
    "    \n",
    "    answer = (is_strongly_connected,is_weakly_connected)\n",
    "        \n",
    "    return answer\n",
    "\n",
    "answer_three()"
   ]
  },
  {
   "cell_type": "markdown",
   "metadata": {},
   "source": [
    "### Question 4\n",
    "\n",
    "How many nodes are in the largest (in terms of nodes) weakly connected component?\n",
    "\n",
    "*This function should return an int.*"
   ]
  },
  {
   "cell_type": "code",
   "execution_count": 25,
   "metadata": {
    "scrolled": true
   },
   "outputs": [
    {
     "data": {
      "text/plain": [
       "167"
      ]
     },
     "execution_count": 25,
     "metadata": {},
     "output_type": "execute_result"
    }
   ],
   "source": [
    "def answer_four():\n",
    "        \n",
    "    G = answer_one()\n",
    "                \n",
    "    longest_list = pd.Series([len(c) for c in nx.weakly_connected_components(G)])\n",
    "    #create a list and cast to series the length of each component\n",
    "    \n",
    "    length = longest_list.iloc[longest_list.idxmax()]\n",
    "    #return the length value of the list with the longest length\n",
    "    \n",
    "    return length\n",
    "\n",
    "answer_four()"
   ]
  },
  {
   "cell_type": "markdown",
   "metadata": {},
   "source": [
    "### Question 5\n",
    "\n",
    "How many nodes are in the largest (in terms of nodes) strongly connected component?\n",
    "\n",
    "*This function should return an int*"
   ]
  },
  {
   "cell_type": "code",
   "execution_count": 27,
   "metadata": {},
   "outputs": [
    {
     "data": {
      "text/plain": [
       "126"
      ]
     },
     "execution_count": 27,
     "metadata": {},
     "output_type": "execute_result"
    }
   ],
   "source": [
    "def answer_five():\n",
    "        \n",
    "    G = answer_one()   \n",
    "            \n",
    "    most_nodes = pd.Series([len(n) for n in nx.strongly_connected_components(G)])\n",
    "    #create a list and cast to series the length of each component\n",
    "    \n",
    "    length = most_nodes.iloc[most_nodes.idxmax()]\n",
    "    #return the length value of the list with the longest length\n",
    "    \n",
    "    return length\n",
    "\n",
    "answer_five()\n",
    "    "
   ]
  },
  {
   "cell_type": "markdown",
   "metadata": {},
   "source": [
    "### Question 6\n",
    "\n",
    "Using the NetworkX function strongly_connected_component_subgraphs, find the subgraph of nodes in a largest strongly connected component. \n",
    "Call this graph G_sc.\n",
    "\n",
    "*This function should return a networkx MultiDiGraph named G_sc.*"
   ]
  },
  {
   "cell_type": "code",
   "execution_count": 52,
   "metadata": {},
   "outputs": [
    {
     "data": {
      "text/plain": [
       "<networkx.classes.multidigraph.MultiDiGraph at 0x7fa34bf42970>"
      ]
     },
     "execution_count": 52,
     "metadata": {},
     "output_type": "execute_result"
    }
   ],
   "source": [
    "def answer_six():\n",
    "    \n",
    "    G = answer_one()\n",
    "#     G1 = nx.strongly_connected_component_subgraphs(G)\n",
    "#     this function is deprecated and can no longer be used in newer versions of networkX\n",
    "\n",
    "    node_list = [component for component in sorted(nx.strongly_connected_components(G), \n",
    "                                              key = len, \n",
    "                                              reverse = True)][0]\n",
    "\n",
    "    G_sc = G.subgraph(list(node_list))\n",
    "        \n",
    "    return G_sc\n",
    "\n",
    "answer_six()"
   ]
  },
  {
   "cell_type": "markdown",
   "metadata": {},
   "source": [
    "### Question 7\n",
    "\n",
    "What is the average distance between nodes in G_sc?\n",
    "\n",
    "*This function should return a float.*"
   ]
  },
  {
   "cell_type": "code",
   "execution_count": 45,
   "metadata": {},
   "outputs": [
    {
     "data": {
      "text/plain": [
       "1.6461587301587302"
      ]
     },
     "execution_count": 45,
     "metadata": {},
     "output_type": "execute_result"
    }
   ],
   "source": [
    "def answer_seven():\n",
    "        \n",
    "    G_sc = answer_six()\n",
    "    \n",
    "    avg_shortest_path = nx.average_shortest_path_length(G_sc)\n",
    "    \n",
    "    return avg_shortest_path\n",
    "\n",
    "answer_seven()"
   ]
  },
  {
   "cell_type": "markdown",
   "metadata": {},
   "source": [
    "### Question 8\n",
    "\n",
    "What is the largest possible distance between two employees in G_sc?\n",
    "\n",
    "*This function should return an int.*"
   ]
  },
  {
   "cell_type": "code",
   "execution_count": 62,
   "metadata": {},
   "outputs": [
    {
     "data": {
      "text/plain": [
       "3"
      ]
     },
     "execution_count": 62,
     "metadata": {},
     "output_type": "execute_result"
    }
   ],
   "source": [
    "def answer_eight():\n",
    "\n",
    "    G_sc = answer_six()\n",
    "    \n",
    "    eccentricity = nx.eccentricity(G_sc)\n",
    "        \n",
    "    eccentricity_series = pd.Series([v for v in eccentricity.values()], index = eccentricity.keys())\n",
    "#   use dict value and keys to create a pandas Series\n",
    "    \n",
    "    max_eccentricity = eccentricity_series[eccentricity_series.idxmax()]\n",
    "#    return the value with the highest eccentricity\n",
    "    \n",
    "    return max_eccentricity\n",
    "\n",
    "answer_eight()"
   ]
  },
  {
   "cell_type": "markdown",
   "metadata": {},
   "source": [
    "### Question 9\n",
    "\n",
    "What is the set of nodes in G_sc with eccentricity equal to the diameter?\n",
    "\n",
    "*This function should return a set of the node(s).*"
   ]
  },
  {
   "cell_type": "code",
   "execution_count": 63,
   "metadata": {},
   "outputs": [
    {
     "data": {
      "text/plain": [
       "{'129', '134', '97'}"
      ]
     },
     "execution_count": 63,
     "metadata": {},
     "output_type": "execute_result"
    }
   ],
   "source": [
    "def answer_nine():\n",
    "    \n",
    "    G_sc = answer_six()   \n",
    "    G_sc_diameter = nx.diameter(G_sc)\n",
    "    G_sc_eccentricity = nx.eccentricity(G_sc)\n",
    "        \n",
    "    eccentricy_equals_diameter = []\n",
    "    \n",
    "    for key in G_sc_eccentricity:\n",
    "        if G_sc_eccentricity[key] == G_sc_diameter:\n",
    "            eccentricy_equals_diameter.append(key)\n",
    "    \n",
    "    #append to the list the name of the node if the eccentricty is equal to the diameter\n",
    "                    \n",
    "    answer = set(eccentricy_equals_diameter)   \n",
    "    \n",
    "    return answer\n",
    "\n",
    "answer_nine()"
   ]
  },
  {
   "cell_type": "markdown",
   "metadata": {},
   "source": [
    "### Question 10\n",
    "\n",
    "What is the set of node(s) in G_sc with eccentricity equal to the radius?\n",
    "\n",
    "*This function should return a set of the node(s).*"
   ]
  },
  {
   "cell_type": "code",
   "execution_count": 64,
   "metadata": {},
   "outputs": [
    {
     "data": {
      "text/plain": [
       "{'38'}"
      ]
     },
     "execution_count": 64,
     "metadata": {},
     "output_type": "execute_result"
    }
   ],
   "source": [
    "def answer_ten():\n",
    "        \n",
    "    G_sc = answer_six()\n",
    "    G_sc_radius = nx.radius(G_sc)\n",
    "    G_sc_eccentricity = nx.eccentricity(G_sc)\n",
    "    \n",
    "    eccentricity_equals_radius = []\n",
    "    for key in G_sc_eccentricity:\n",
    "        if G_sc_eccentricity[key] == G_sc_radius:\n",
    "            eccentricity_equals_radius.append(key)\n",
    "    \n",
    "    #append to the list the name of the node if the eccentricity equals the radius\n",
    "       \n",
    "    answer = set(eccentricity_equals_radius)\n",
    "    \n",
    "    return answer\n",
    "\n",
    "answer_ten()"
   ]
  },
  {
   "cell_type": "markdown",
   "metadata": {},
   "source": [
    "### Question 11\n",
    "\n",
    "Which node in G_sc is connected to the most other nodes by a shortest path of length equal to the diameter of G_sc?\n",
    "\n",
    "How many nodes are connected to this node?\n",
    "\n",
    "\n",
    "*This function should return a tuple (name of node, number of satisfied connected nodes).*"
   ]
  },
  {
   "cell_type": "code",
   "execution_count": 39,
   "metadata": {
    "scrolled": false
   },
   "outputs": [
    {
     "data": {
      "text/plain": [
       "('97', 63)"
      ]
     },
     "execution_count": 39,
     "metadata": {},
     "output_type": "execute_result"
    }
   ],
   "source": [
    "def answer_eleven():\n",
    "\n",
    "    G_sc = answer_six()\n",
    "    G_sc_diameter = nx.diameter(G_sc)\n",
    "    \n",
    "    shortest_paths = nx.shortest_path_length(G_sc)\n",
    "    \n",
    "    source_node = []\n",
    "    target_node = []\n",
    "    \n",
    "    test_list = [path for path in shortest_paths]\n",
    "    #use shortest_path_length generator to create a list of shortest paths\n",
    "    \n",
    "    for pair in test_list:\n",
    "        for key in pair[1]:\n",
    "            if pair[1][key] == G_sc_diameter:\n",
    "                source_node.append(pair[0])\n",
    "                target_node.append(key)\n",
    "                \n",
    "    #loop through second position of each tuple, then loop through each key in the dictionary\n",
    "    #if the value of the key equals the diameter, append the target key to the list and \n",
    "    #append the source node key to a separate list\n",
    "    \n",
    "    \n",
    "    df = pd.DataFrame(list(zip(source_node,target_node)), \n",
    "                      columns = [\"source node\", \"target node\"])\n",
    "    \n",
    "    mode = df[\"source node\"].mode()[0]\n",
    "    \n",
    "    count = (df.loc[df[\"source node\"] == mode,\n",
    "                    [\"target node\"]].count(axis=0))[0]\n",
    "\n",
    "    return (mode, count)\n",
    "\n",
    "answer_eleven()"
   ]
  },
  {
   "cell_type": "markdown",
   "metadata": {},
   "source": [
    "### Question 12\n",
    "\n",
    "Suppose you want to prevent communication from flowing to the node that you found in the previous question from any node in the center of G_sc, what is the smallest number of nodes you would need to remove from the graph (you're not allowed to remove the node from the previous question or the center nodes)? \n",
    "\n",
    "*This function should return an integer.*"
   ]
  },
  {
   "cell_type": "code",
   "execution_count": 99,
   "metadata": {
    "scrolled": false
   },
   "outputs": [
    {
     "data": {
      "text/plain": [
       "6"
      ]
     },
     "execution_count": 99,
     "metadata": {},
     "output_type": "execute_result"
    }
   ],
   "source": [
    "def answer_twelve():\n",
    "    \n",
    "    #for some reason, minimum_node_cut() is not returning anything. \n",
    "    #Going to use a workaround with minimum_edge_cut and count the number of unique source nodes\n",
    "    G_sc = answer_six()\n",
    "    \n",
    "    df = pd.DataFrame(nx.minimum_edge_cut(G_sc,'38','97'), \n",
    "                       columns = [\"source\",\"target\"])\n",
    "    \n",
    "    node_list = df[\"source\"].unique()\n",
    "    \n",
    "    answer = len(node_list)\n",
    "    \n",
    "    return answer\n",
    "\n",
    "\n",
    "answer_twelve()"
   ]
  },
  {
   "cell_type": "markdown",
   "metadata": {},
   "source": [
    "### Question 13\n",
    "\n",
    "Construct an undirected graph G_un using G_sc (you can ignore the attributes).\n",
    "\n",
    "*This function should return a networkx Graph.*"
   ]
  },
  {
   "cell_type": "code",
   "execution_count": 100,
   "metadata": {},
   "outputs": [
    {
     "data": {
      "text/plain": [
       "<networkx.classes.graph.Graph at 0x7fa348277be0>"
      ]
     },
     "execution_count": 100,
     "metadata": {},
     "output_type": "execute_result"
    }
   ],
   "source": [
    "def answer_thirteen():\n",
    "    \n",
    "    G = answer_one()\n",
    "    G_sc = answer_six()  \n",
    "    G_un = nx.Graph(G_sc)\n",
    "        \n",
    "    return G_un\n",
    "\n",
    "answer_thirteen()"
   ]
  },
  {
   "cell_type": "markdown",
   "metadata": {},
   "source": [
    "### Question 14\n",
    "\n",
    "What is the transitivity and average clustering coefficient of graph G_un?\n",
    "\n",
    "*This function should return a tuple (transitivity, avg clustering).*"
   ]
  },
  {
   "cell_type": "code",
   "execution_count": 101,
   "metadata": {},
   "outputs": [
    {
     "data": {
      "text/plain": [
       "(0.570111160700385, 0.6975272437231418)"
      ]
     },
     "execution_count": 101,
     "metadata": {},
     "output_type": "execute_result"
    }
   ],
   "source": [
    "def answer_fourteen():\n",
    "        \n",
    "    G_un = answer_thirteen()\n",
    "    \n",
    "    G_un_transitivity = nx.transitivity(G_un)\n",
    "    G_un_avg_clustering = nx.average_clustering(G_un)\n",
    "    \n",
    "    answer = (G_un_transitivity,G_un_avg_clustering)\n",
    "    \n",
    "    return answer\n",
    "\n",
    "answer_fourteen()"
   ]
  },
  {
   "cell_type": "code",
   "execution_count": null,
   "metadata": {
    "collapsed": true
   },
   "outputs": [],
   "source": []
  }
 ],
 "metadata": {
  "coursera": {
   "course_slug": "python-social-network-analysis",
   "graded_item_id": "jMCHR",
   "launcher_item_id": "7RsKp",
   "part_id": "E9gn5"
  },
  "kernelspec": {
   "display_name": "Python 3",
   "language": "python",
   "name": "python3"
  },
  "language_info": {
   "codemirror_mode": {
    "name": "ipython",
    "version": 3
   },
   "file_extension": ".py",
   "mimetype": "text/x-python",
   "name": "python",
   "nbconvert_exporter": "python",
   "pygments_lexer": "ipython3",
   "version": "3.8.2"
  }
 },
 "nbformat": 4,
 "nbformat_minor": 2
}
