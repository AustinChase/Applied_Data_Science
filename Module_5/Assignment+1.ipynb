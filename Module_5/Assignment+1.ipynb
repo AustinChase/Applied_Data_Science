{
 "cells": [
  {
   "cell_type": "markdown",
   "metadata": {},
   "source": [
    "---\n",
    "\n",
    "_You are currently looking at **version 1.1** of this notebook. To download notebooks and datafiles, as well as get help on Jupyter notebooks in the Coursera platform, visit the [Jupyter Notebook FAQ](https://www.coursera.org/learn/python-social-network-analysis/resources/yPcBs) course resource._\n",
    "\n",
    "---"
   ]
  },
  {
   "cell_type": "markdown",
   "metadata": {},
   "source": [
    "# Assignment 1 - Creating and Manipulating Graphs\n",
    "\n",
    "Eight employees at a small company were asked to choose 3 movies that they would most enjoy watching for the upcoming company movie night. These choices are stored in the file `Employee_Movie_Choices.txt`.\n",
    "\n",
    "A second file, `Employee_Relationships.txt`, has data on the relationships between different coworkers. \n",
    "\n",
    "The relationship score has value of `-100` (Enemies) to `+100` (Best Friends). A value of zero means the two employees haven't interacted or are indifferent.\n",
    "\n",
    "Both files are tab delimited."
   ]
  },
  {
   "cell_type": "code",
   "execution_count": 2,
   "metadata": {
    "collapsed": true
   },
   "outputs": [],
   "source": [
    "import networkx as nx\n",
    "import pandas as pd\n",
    "import numpy as np\n",
    "from networkx.algorithms import bipartite\n",
    "\n",
    "\n",
    "# This is the set of employees\n",
    "employees = set(['Pablo',\n",
    "                 'Lee',\n",
    "                 'Georgia',\n",
    "                 'Vincent',\n",
    "                 'Andy',\n",
    "                 'Frida',\n",
    "                 'Joan',\n",
    "                 'Claude'])\n",
    "\n",
    "# This is the set of movies\n",
    "movies = set(['The Shawshank Redemption',\n",
    "              'Forrest Gump',\n",
    "              'The Matrix',\n",
    "              'Anaconda',\n",
    "              'The Social Network',\n",
    "              'The Godfather',\n",
    "              'Monty Python and the Holy Grail',\n",
    "              'Snakes on a Plane',\n",
    "              'Kung Fu Panda',\n",
    "              'The Dark Knight',\n",
    "              'Mean Girls'])\n",
    "\n",
    "\n",
    "# you can use the following function to plot graphs\n",
    "# make sure to comment it out before submitting to the autograder\n",
    "def plot_graph(G, weight_name=None):\n",
    "    '''\n",
    "    G: a networkx G\n",
    "    weight_name: name of the attribute for plotting edge weights (if G is weighted)\n",
    "    '''\n",
    "\n",
    "    import matplotlib.pyplot as plt\n",
    "    \n",
    "    plt.figure()\n",
    "    pos = nx.spring_layout(G)\n",
    "    edges = G.edges()\n",
    "    weights = None\n",
    "    \n",
    "    if weight_name:\n",
    "        weights = [int(G[u][v][weight_name]) for u,v in edges]\n",
    "        labels = nx.get_edge_attributes(G,weight_name)\n",
    "        nx.draw_networkx_edge_labels(G,pos,edge_labels=labels)\n",
    "        nx.draw_networkx(G, pos, edges=edges, width=weights);\n",
    "    else:\n",
    "        nx.draw_networkx(G, pos, edges=edges);"
   ]
  },
  {
   "cell_type": "markdown",
   "metadata": {},
   "source": [
    "### Question 1\n",
    "\n",
    "Using NetworkX, load in the bipartite graph from `Employee_Movie_Choices.txt` and return that graph.\n",
    "\n",
    "*This function should return a networkx graph with 19 nodes and 24 edges*"
   ]
  },
  {
   "cell_type": "code",
   "execution_count": 72,
   "metadata": {
    "collapsed": true,
    "scrolled": false
   },
   "outputs": [],
   "source": [
    "def answer_one():\n",
    "         \n",
    "    G = nx.Graph()\n",
    "    movie_prefs = pd.read_csv(\"Employee_Movie_Choices.txt\", delimiter = '\\t')\n",
    "        \n",
    "    Employee_set = set(movie_prefs['#Employee'])\n",
    "    Movie_set = set(movie_prefs['Movie'])\n",
    "    \n",
    "    \n",
    "    G.add_nodes_from(Employee_set, bipartite=0)\n",
    "    G.add_nodes_from(Movie_set, bipartite=1)\n",
    "    \n",
    "    Employee_Movie_edges = list(zip(movie_prefs['#Employee'],movie_prefs['Movie']))\n",
    "    G.add_edges_from(Employee_Movie_edges)\n",
    "    \n",
    "       \n",
    "    return G"
   ]
  },
  {
   "cell_type": "code",
   "execution_count": null,
   "metadata": {
    "collapsed": true
   },
   "outputs": [],
   "source": []
  },
  {
   "cell_type": "markdown",
   "metadata": {},
   "source": [
    "### Question 2\n",
    "\n",
    "Using the graph from the previous question, add nodes attributes named `'type'` where movies have the value `'movie'` and employees have the value `'employee'` and return that graph.\n",
    "\n",
    "*This function should return a networkx graph with node attributes `{'type': 'movie'}` or `{'type': 'employee'}`*"
   ]
  },
  {
   "cell_type": "code",
   "execution_count": 71,
   "metadata": {},
   "outputs": [
    {
     "data": {
      "text/plain": [
       "<networkx.classes.graph.Graph at 0x7f5d3d42d710>"
      ]
     },
     "execution_count": 71,
     "metadata": {},
     "output_type": "execute_result"
    }
   ],
   "source": [
    "def answer_two():\n",
    "    \n",
    "    G = nx.Graph()\n",
    "    movie_prefs = pd.read_csv(\"Employee_Movie_Choices.txt\", delimiter = '\\t')\n",
    "        \n",
    "    Employee_set = set(movie_prefs['#Employee'])\n",
    "    Movie_set = set(movie_prefs['Movie'])\n",
    "    \n",
    "    G.add_nodes_from(Employee_set, bipartite=0, type = 'employee')\n",
    "    G.add_nodes_from(Movie_set, bipartite=1, type = 'movie')\n",
    "    \n",
    "    \n",
    "    Employee_Movie_edges = list(zip(movie_prefs['#Employee'],movie_prefs['Movie']))\n",
    "    G.add_edges_from(Employee_Movie_edges)\n",
    "         \n",
    "    return G"
   ]
  },
  {
   "cell_type": "markdown",
   "metadata": {
    "collapsed": true
   },
   "source": [
    "### Question 3\n",
    "\n",
    "Find a weighted projection of the graph from `answer_two` which tells us how many movies different pairs of employees have in common.\n",
    "\n",
    "*This function should return a weighted projected graph.*"
   ]
  },
  {
   "cell_type": "code",
   "execution_count": 70,
   "metadata": {
    "scrolled": false
   },
   "outputs": [
    {
     "data": {
      "text/plain": [
       "<networkx.classes.graph.Graph at 0x7f5d3d431cf8>"
      ]
     },
     "execution_count": 70,
     "metadata": {},
     "output_type": "execute_result"
    }
   ],
   "source": [
    "from networkx.algorithms import bipartite\n",
    "\n",
    "def answer_three():\n",
    "        \n",
    "    G = nx.Graph()\n",
    "    movie_prefs = pd.read_csv(\"Employee_Movie_Choices.txt\", delimiter = '\\t')\n",
    "        \n",
    "    Employee_set = set(movie_prefs['#Employee'])\n",
    "    Movie_set = set(movie_prefs['Movie'])\n",
    "    \n",
    "    G.add_nodes_from(Employee_set, bipartite=0, type = 'employee')\n",
    "    G.add_nodes_from(Movie_set, bipartite=1, type = 'movie')\n",
    "    \n",
    "    \n",
    "    Employee_Movie_edges = list(zip(movie_prefs['#Employee'],movie_prefs['Movie']))    \n",
    "    G.add_edges_from(Employee_Movie_edges)\n",
    "    \n",
    "    adj_list = []\n",
    "    for line in nx.generate_adjlist(G):\n",
    "        adj_list.append(line)\n",
    "    \n",
    "    P = bipartite.weighted_projected_graph(G,Employee_set)\n",
    "    \n",
    "    return P"
   ]
  },
  {
   "cell_type": "markdown",
   "metadata": {
    "collapsed": true
   },
   "source": [
    "### Question 4\n",
    "\n",
    "Suppose you'd like to find out if people that have a high relationship score also like the same types of movies.\n",
    "\n",
    "Find the Pearson correlation ( using `DataFrame.corr()` ) between employee relationship scores and the number of movies they have in common. If two employees have no movies in common it should be treated as a 0, not a missing value, and should be included in the correlation calculation.\n",
    "\n",
    "*This function should return a float.*"
   ]
  },
  {
   "cell_type": "code",
   "execution_count": 69,
   "metadata": {
    "scrolled": false
   },
   "outputs": [
    {
     "data": {
      "text/plain": [
       "0.78839622217334759"
      ]
     },
     "execution_count": 69,
     "metadata": {},
     "output_type": "execute_result"
    }
   ],
   "source": [
    "def answer_four():\n",
    "    \n",
    "    employee_relationships = pd.read_csv('Employee_Relationships.txt', delimiter = '\\t', header=None)\n",
    "    employee_movie_choices = pd.read_csv('Employee_Movie_Choices.txt', delimiter = '\\t')\n",
    "    \n",
    "    employee_set = set(employee_movie_choices['#Employee'])\n",
    "    movie_set = set(employee_movie_choices['Movie'])\n",
    "     \n",
    "    G = nx.Graph()\n",
    "    G.add_nodes_from(employee_set, bipartite=0)\n",
    "    G.add_nodes_from(movie_set, bipartite=1)\n",
    "    employee_movie_edges = list(zip(employee_movie_choices['#Employee'],employee_movie_choices['Movie']))\n",
    "    G.add_edges_from(employee_movie_edges)\n",
    "    P = bipartite.weighted_projected_graph(G,employee_set)\n",
    "    \n",
    "    G1 = nx.from_pandas_dataframe(employee_relationships,0,1,edge_attr =2)\n",
    "    G1.add_edges_from(P.edges(data=True))\n",
    "        \n",
    "    df = pd.DataFrame(G1.edges(data=True))\n",
    "    column_to_delineate = list(df[2])\n",
    "    relationship_score_column = []\n",
    "    movies_in_common_column = []\n",
    "    for i,row in enumerate(column_to_delineate):\n",
    "        relationship_score_column.append(row[2])\n",
    "        try:\n",
    "            movies_in_common_column.append(row['weight'])\n",
    "        except:\n",
    "            movies_in_common_column.append(0)\n",
    "    \n",
    "    df2 = pd.DataFrame()\n",
    "    df2['relationship_score'] = relationship_score_column\n",
    "    df2['movies_in_common'] = movies_in_common_column\n",
    "    \n",
    "    answer = df2.corr().iloc[0][1]\n",
    "       \n",
    "    return answer"
   ]
  },
  {
   "cell_type": "code",
   "execution_count": null,
   "metadata": {
    "collapsed": true
   },
   "outputs": [],
   "source": []
  }
 ],
 "metadata": {
  "coursera": {
   "course_slug": "python-social-network-analysis",
   "graded_item_id": "YNa9b",
   "launcher_item_id": "hvNc1",
   "part_id": "VbyiB"
  },
  "kernelspec": {
   "display_name": "Python 3",
   "language": "python",
   "name": "python3"
  },
  "language_info": {
   "codemirror_mode": {
    "name": "ipython",
    "version": 3
   },
   "file_extension": ".py",
   "mimetype": "text/x-python",
   "name": "python",
   "nbconvert_exporter": "python",
   "pygments_lexer": "ipython3",
   "version": "3.6.2"
  }
 },
 "nbformat": 4,
 "nbformat_minor": 2
}
