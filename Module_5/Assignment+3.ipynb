{
 "cells": [
  {
   "cell_type": "markdown",
   "metadata": {},
   "source": [
    "---\n",
    "\n",
    "_You are currently looking at **version 1.2** of this notebook. To download notebooks and datafiles, as well as get help on Jupyter notebooks in the Coursera platform, visit the [Jupyter Notebook FAQ](https://www.coursera.org/learn/python-social-network-analysis/resources/yPcBs) course resource._\n",
    "\n",
    "---"
   ]
  },
  {
   "cell_type": "markdown",
   "metadata": {},
   "source": [
    "# Assignment 3\n",
    "\n",
    "In this assignment you will explore measures of centrality on two networks, a friendship network in Part 1, and a blog network in Part 2."
   ]
  },
  {
   "cell_type": "markdown",
   "metadata": {},
   "source": [
    "## Part 1\n",
    "\n",
    "Answer questions 1-4 using the network `G1`, a network of friendships at a university department. Each node corresponds to a person, and an edge indicates friendship. \n",
    "\n",
    "*The network has been loaded as networkx graph object `G1`.*"
   ]
  },
  {
   "cell_type": "code",
   "execution_count": 2,
   "metadata": {},
   "outputs": [],
   "source": [
    "import networkx as nx\n",
    "\n",
    "G1 = nx.read_gml('friendships.gml')"
   ]
  },
  {
   "cell_type": "markdown",
   "metadata": {},
   "source": [
    "### Question 1\n",
    "\n",
    "Find the degree centrality, closeness centrality, and normalized betweeness centrality (excluding endpoints) of node 100.\n",
    "\n",
    "*This function should return a tuple of floats `(degree_centrality, closeness_centrality, betweenness_centrality)`.*"
   ]
  },
  {
   "cell_type": "code",
   "execution_count": 3,
   "metadata": {},
   "outputs": [
    {
     "data": {
      "text/plain": [
       "(0.0026501766784452294, 0.2654784240150094, 7.142902633244772e-05)"
      ]
     },
     "execution_count": 3,
     "metadata": {},
     "output_type": "execute_result"
    }
   ],
   "source": [
    "def answer_one():\n",
    "    \n",
    "    degree_centrality = nx.degree_centrality(G1)\n",
    "    #fraction of nodes each node is connected to\n",
    "    \n",
    "    closeness_centrality = nx.closeness_centrality(G1, u=100)\n",
    "    #reciprocal of the sum of the length of the shortest paths between the node and \n",
    "    #all other nodes in the graph\n",
    "    \n",
    "    betweenness_centrality = nx.betweenness_centrality(G1)\n",
    "    #the fraction of shortest paths from node s to t that pass through node v\n",
    "    \n",
    "    answer = (degree_centrality[100], closeness_centrality, betweenness_centrality[100])\n",
    "    \n",
    "    return answer\n",
    "answer_one()"
   ]
  },
  {
   "cell_type": "markdown",
   "metadata": {},
   "source": [
    "<br>\n",
    "#### For Questions 2, 3, and 4, assume that you do not know anything about the structure of the network, except for the all the centrality values of the nodes. That is, use one of the covered centrality measures to rank the nodes and find the most appropriate candidate.\n",
    "<br>"
   ]
  },
  {
   "cell_type": "markdown",
   "metadata": {},
   "source": [
    "### Question 2\n",
    "\n",
    "Suppose you are employed by an online shopping website and are tasked with selecting one user in network G1 to send an online shopping voucher to. We expect that the user who receives the voucher will send it to their friends in the network.  You want the voucher to reach as many nodes as possible. The voucher can be forwarded to multiple users at the same time, but the travel distance of the voucher is limited to one step, which means if the voucher travels more than one step in this network, it is no longer valid. Apply your knowledge in network centrality to select the best candidate for the voucher. \n",
    "\n",
    "*This function should return an integer, the name of the node.*"
   ]
  },
  {
   "cell_type": "markdown",
   "metadata": {},
   "source": []
  },
  {
   "cell_type": "code",
   "execution_count": 45,
   "metadata": {
    "scrolled": true
   },
   "outputs": [
    {
     "data": {
      "text/plain": [
       "105"
      ]
     },
     "execution_count": 45,
     "metadata": {},
     "output_type": "execute_result"
    }
   ],
   "source": [
    "import pandas as pd\n",
    "\n",
    "def answer_two():\n",
    "            \n",
    "    df = pd.DataFrame(nx.degree_centrality(G1).items())\n",
    "    df.index = df[0]\n",
    "    df.drop(0, axis = 1, inplace = True)\n",
    "        \n",
    "    answer = int(df.idxmax())\n",
    "    \n",
    "    return answer\n",
    "    \n",
    "answer_two()"
   ]
  },
  {
   "cell_type": "markdown",
   "metadata": {},
   "source": [
    "### Question 3\n",
    "\n",
    "Now the limit of the voucher’s travel distance has been removed. Because the network is connected, regardless of who you pick, every node in the network will eventually receive the voucher. However, we now want to ensure that the voucher reaches the nodes in the lowest average number of hops.\n",
    "\n",
    "How would you change your selection strategy? Write a function to tell us who is the best candidate in the network under this condition.\n",
    "\n",
    "*This function should return an integer, the name of the node.*"
   ]
  },
  {
   "cell_type": "code",
   "execution_count": 54,
   "metadata": {
    "scrolled": false
   },
   "outputs": [
    {
     "data": {
      "text/plain": [
       "23"
      ]
     },
     "execution_count": 54,
     "metadata": {},
     "output_type": "execute_result"
    }
   ],
   "source": [
    "import pandas as pd\n",
    "\n",
    "def answer_three():\n",
    "            \n",
    "    df = pd.DataFrame(nx.closeness_centrality(G1).items())\n",
    "    df.index = df[0]\n",
    "    df.drop(0, axis = 1, inplace = True)\n",
    "    \n",
    "    answer = int(df.idxmax())\n",
    "    \n",
    "    return answer\n",
    "\n",
    "answer_three()"
   ]
  },
  {
   "cell_type": "markdown",
   "metadata": {},
   "source": [
    "### Question 4\n",
    "\n",
    "Assume the restriction on the voucher’s travel distance is still removed, but now a competitor has developed a strategy to remove a person from the network in order to disrupt the distribution of your company’s voucher. Your competitor is specifically targeting people who are often bridges of information flow between other pairs of people. Identify the single riskiest person to be removed under your competitor’s strategy?\n",
    "\n",
    "*This function should return an integer, the name of the node.*"
   ]
  },
  {
   "cell_type": "code",
   "execution_count": 56,
   "metadata": {},
   "outputs": [
    {
     "data": {
      "text/plain": [
       "333"
      ]
     },
     "execution_count": 56,
     "metadata": {},
     "output_type": "execute_result"
    }
   ],
   "source": [
    "import pandas as pd\n",
    "\n",
    "def answer_four():\n",
    "        \n",
    "    df = pd.DataFrame(nx.betweenness_centrality(G1).items())  \n",
    "    df.index = df[0]\n",
    "    df.drop(0, axis =1, inplace = True)\n",
    "    \n",
    "    answer = int(df.idxmax())\n",
    "\n",
    "    return answer\n",
    "\n",
    "answer_four()"
   ]
  },
  {
   "cell_type": "markdown",
   "metadata": {
    "collapsed": true
   },
   "source": [
    "## Part 2\n",
    "\n",
    "`G2` is a directed network of political blogs, where nodes correspond to a blog and edges correspond to links between blogs. Use your knowledge of PageRank and HITS to answer Questions 5-9."
   ]
  },
  {
   "cell_type": "code",
   "execution_count": 58,
   "metadata": {},
   "outputs": [],
   "source": [
    "G2 = nx.read_gml('blogs.gml')"
   ]
  },
  {
   "cell_type": "markdown",
   "metadata": {},
   "source": [
    "### Question 5\n",
    "\n",
    "Apply the Scaled Page Rank Algorithm to this network. Find the Page Rank of node 'realclearpolitics.com' with damping value 0.85.\n",
    "\n",
    "*This function should return a float.*"
   ]
  },
  {
   "cell_type": "code",
   "execution_count": 59,
   "metadata": {},
   "outputs": [
    {
     "data": {
      "text/plain": [
       "0.004636694781649094"
      ]
     },
     "execution_count": 59,
     "metadata": {},
     "output_type": "execute_result"
    }
   ],
   "source": [
    "def answer_five():\n",
    "    \n",
    "    #page rank works by counting the number and quality of links to a page to determine a rough estimate of \n",
    "    #how important the website is. \n",
    "    #The assumption is that more important websites are likely to receive more links from other websites\n",
    "    \n",
    "    G2_page_rank = nx.pagerank(G2, alpha = 0.85)\n",
    "        \n",
    "    answer = G2_page_rank['realclearpolitics.com']\n",
    "    \n",
    "    return answer\n",
    "\n",
    "answer_five()"
   ]
  },
  {
   "cell_type": "markdown",
   "metadata": {},
   "source": [
    "### Question 6\n",
    "\n",
    "Apply the Scaled Page Rank Algorithm to this network with damping value 0.85. Find the 5 nodes with highest Page Rank. \n",
    "\n",
    "*This function should return a list of the top 5 blogs in desending order of Page Rank.*"
   ]
  },
  {
   "cell_type": "code",
   "execution_count": 75,
   "metadata": {
    "scrolled": true
   },
   "outputs": [
    {
     "data": {
      "text/plain": [
       "['dailykos.com',\n",
       " 'atrios.blogspot.com',\n",
       " 'instapundit.com',\n",
       " 'blogsforbush.com',\n",
       " 'talkingpointsmemo.com']"
      ]
     },
     "execution_count": 75,
     "metadata": {},
     "output_type": "execute_result"
    }
   ],
   "source": [
    "def answer_six():\n",
    "        \n",
    "    G2_page_rank = nx.pagerank(G2, alpha = 0.85)\n",
    "    \n",
    "    df = pd.DataFrame(G2_page_rank.items())\n",
    "    df.index = df[0]\n",
    "    df.drop(0, axis = 1, inplace = True)\n",
    "    \n",
    "    answer = (list(df.sort_values(by = 1, \n",
    "                                  ascending = False)\n",
    "                   .iloc[0:5]\n",
    "                   .index))\n",
    "    \n",
    "    return answer\n",
    "\n",
    "answer_six()"
   ]
  },
  {
   "cell_type": "markdown",
   "metadata": {
    "collapsed": true
   },
   "source": [
    "### Question 7\n",
    "\n",
    "Apply the HITS Algorithm to the network to find the hub and authority scores of node 'realclearpolitics.com'. \n",
    "\n",
    "*Your result should return a tuple of floats `(hub_score, authority_score)`.*"
   ]
  },
  {
   "cell_type": "code",
   "execution_count": 126,
   "metadata": {
    "scrolled": false
   },
   "outputs": [
    {
     "data": {
      "text/plain": [
       "(0.0003243556140916672, 0.003918957645699851)"
      ]
     },
     "execution_count": 126,
     "metadata": {},
     "output_type": "execute_result"
    }
   ],
   "source": [
    "import pandas as pd\n",
    "\n",
    "def answer_seven():\n",
    "    \n",
    "    #hyperlink-Induced Topic Search. The idea behind hubs and authorities stemmed from a particular \n",
    "    #insight into the creation of web pages when the internet was orignally forming. Certain web pages known \n",
    "    #as hubs served as large directories that were not actually authoratitive in the information that they held, \n",
    "    #but were used as compilations of a broad catalog of information that led users direct to other authoritative\n",
    "    #pages.\n",
    "        \n",
    "    G2_HITS = nx.hits(G2)\n",
    "    df_hubs = pd.DataFrame(G2_HITS[0].items())\n",
    "    df_auth = pd.DataFrame(G2_HITS[1].items())\n",
    "    \n",
    "    df_hubs.index = df_hubs[0]\n",
    "    df_auth.index = df_auth[0]\n",
    "    \n",
    "    df_hubs.drop(0, axis = 1, inplace = True)\n",
    "    df_auth.drop(0, axis = 1, inplace = True)\n",
    "    \n",
    "    G2_hub = float(df_hubs.loc[df_hubs.index == 'realclearpolitics.com',:].iloc[0])\n",
    "    G2_auth = float(df_auth.loc[df_auth.index == 'realclearpolitics.com'].iloc[0])\n",
    "        \n",
    "    answer = (G2_hub,G2_auth)\n",
    "        \n",
    "    return answer\n",
    "\n",
    "answer_seven()"
   ]
  },
  {
   "cell_type": "markdown",
   "metadata": {
    "collapsed": true
   },
   "source": [
    "### Question 8 \n",
    "\n",
    "Apply the HITS Algorithm to this network to find the 5 nodes with highest hub scores.\n",
    "\n",
    "*This function should return a list of the top 5 blogs in desending order of hub scores.*"
   ]
  },
  {
   "cell_type": "code",
   "execution_count": 146,
   "metadata": {},
   "outputs": [
    {
     "data": {
      "text/plain": [
       "['politicalstrategy.org',\n",
       " 'madkane.com/notable.html',\n",
       " 'liberaloasis.com',\n",
       " 'stagefour.typepad.com/commonprejudice',\n",
       " 'bodyandsoul.typepad.com']"
      ]
     },
     "execution_count": 146,
     "metadata": {},
     "output_type": "execute_result"
    }
   ],
   "source": [
    "import pandas as pd\n",
    "\n",
    "def answer_eight():\n",
    "        \n",
    "    G2_HITS = nx.hits(G2)\n",
    "    \n",
    "    df_HITS = pd.DataFrame(G2_HITS[0].items())\n",
    "    df_HITS.index = df_HITS[0]\n",
    "    df_HITS.drop(0, axis = 1, inplace = True)\n",
    "    \n",
    "    highest_hub_scores = list(df_HITS.sort_values(by = 1,\n",
    "                                            ascending = False)\n",
    "                               .iloc[0:5]\n",
    "                               .index)\n",
    "    \n",
    "    return highest_hub_scores\n",
    "    \n",
    "answer_eight()"
   ]
  },
  {
   "cell_type": "markdown",
   "metadata": {},
   "source": [
    "### Question 9 \n",
    "\n",
    "Apply the HITS Algorithm to this network to find the 5 nodes with highest authority scores.\n",
    "\n",
    "*This function should return a list of the top 5 blogs in desending order of authority scores.*"
   ]
  },
  {
   "cell_type": "code",
   "execution_count": 148,
   "metadata": {},
   "outputs": [
    {
     "data": {
      "text/plain": [
       "['dailykos.com',\n",
       " 'talkingpointsmemo.com',\n",
       " 'atrios.blogspot.com',\n",
       " 'washingtonmonthly.com',\n",
       " 'talkleft.com']"
      ]
     },
     "execution_count": 148,
     "metadata": {},
     "output_type": "execute_result"
    }
   ],
   "source": [
    "def answer_nine():\n",
    "        \n",
    "    G2_HITS = nx.hits(G2)\n",
    "    \n",
    "    df_HITS = pd.DataFrame(G2_HITS[1].items())\n",
    "    df_HITS.index = df_HITS[0]\n",
    "    df_HITS.drop(0, axis = 1, inplace = True)\n",
    "        \n",
    "    highest_auth_scores = list(df_HITS.sort_values(by = 1, ascending = False)\n",
    "                               .iloc[0:5]\n",
    "                               .index)\n",
    "    \n",
    "    return highest_auth_scores\n",
    "\n",
    "answer_nine()"
   ]
  },
  {
   "cell_type": "code",
   "execution_count": null,
   "metadata": {},
   "outputs": [],
   "source": []
  }
 ],
 "metadata": {
  "coursera": {
   "course_slug": "python-social-network-analysis",
   "graded_item_id": "4XCse",
   "launcher_item_id": "utvmz",
   "part_id": "cZ7Jg"
  },
  "kernelspec": {
   "display_name": "Python 3",
   "language": "python",
   "name": "python3"
  },
  "language_info": {
   "codemirror_mode": {
    "name": "ipython",
    "version": 3
   },
   "file_extension": ".py",
   "mimetype": "text/x-python",
   "name": "python",
   "nbconvert_exporter": "python",
   "pygments_lexer": "ipython3",
   "version": "3.8.2"
  }
 },
 "nbformat": 4,
 "nbformat_minor": 2
}
