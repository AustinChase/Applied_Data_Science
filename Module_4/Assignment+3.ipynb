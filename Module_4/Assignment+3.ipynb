{
 "cells": [
  {
   "cell_type": "markdown",
   "metadata": {},
   "source": [
    "---\n",
    "\n",
    "_You are currently looking at **version 1.1** of this notebook. To download notebooks and datafiles, as well as get help on Jupyter notebooks in the Coursera platform, visit the [Jupyter Notebook FAQ](https://www.coursera.org/learn/python-text-mining/resources/d9pwm) course resource._\n",
    "\n",
    "---"
   ]
  },
  {
   "cell_type": "markdown",
   "metadata": {},
   "source": [
    "# Assignment 3\n",
    "\n",
    "In this assignment you will explore text message data and create models to predict if a message is spam or not. "
   ]
  },
  {
   "cell_type": "code",
   "execution_count": 2,
   "metadata": {},
   "outputs": [
    {
     "data": {
      "text/html": [
       "<div>\n",
       "<style>\n",
       "    .dataframe thead tr:only-child th {\n",
       "        text-align: right;\n",
       "    }\n",
       "\n",
       "    .dataframe thead th {\n",
       "        text-align: left;\n",
       "    }\n",
       "\n",
       "    .dataframe tbody tr th {\n",
       "        vertical-align: top;\n",
       "    }\n",
       "</style>\n",
       "<table border=\"1\" class=\"dataframe\">\n",
       "  <thead>\n",
       "    <tr style=\"text-align: right;\">\n",
       "      <th></th>\n",
       "      <th>text</th>\n",
       "      <th>target</th>\n",
       "    </tr>\n",
       "  </thead>\n",
       "  <tbody>\n",
       "    <tr>\n",
       "      <th>0</th>\n",
       "      <td>Go until jurong point, crazy.. Available only ...</td>\n",
       "      <td>0</td>\n",
       "    </tr>\n",
       "    <tr>\n",
       "      <th>1</th>\n",
       "      <td>Ok lar... Joking wif u oni...</td>\n",
       "      <td>0</td>\n",
       "    </tr>\n",
       "    <tr>\n",
       "      <th>2</th>\n",
       "      <td>Free entry in 2 a wkly comp to win FA Cup fina...</td>\n",
       "      <td>1</td>\n",
       "    </tr>\n",
       "    <tr>\n",
       "      <th>3</th>\n",
       "      <td>U dun say so early hor... U c already then say...</td>\n",
       "      <td>0</td>\n",
       "    </tr>\n",
       "    <tr>\n",
       "      <th>4</th>\n",
       "      <td>Nah I don't think he goes to usf, he lives aro...</td>\n",
       "      <td>0</td>\n",
       "    </tr>\n",
       "    <tr>\n",
       "      <th>5</th>\n",
       "      <td>FreeMsg Hey there darling it's been 3 week's n...</td>\n",
       "      <td>1</td>\n",
       "    </tr>\n",
       "    <tr>\n",
       "      <th>6</th>\n",
       "      <td>Even my brother is not like to speak with me. ...</td>\n",
       "      <td>0</td>\n",
       "    </tr>\n",
       "    <tr>\n",
       "      <th>7</th>\n",
       "      <td>As per your request 'Melle Melle (Oru Minnamin...</td>\n",
       "      <td>0</td>\n",
       "    </tr>\n",
       "    <tr>\n",
       "      <th>8</th>\n",
       "      <td>WINNER!! As a valued network customer you have...</td>\n",
       "      <td>1</td>\n",
       "    </tr>\n",
       "    <tr>\n",
       "      <th>9</th>\n",
       "      <td>Had your mobile 11 months or more? U R entitle...</td>\n",
       "      <td>1</td>\n",
       "    </tr>\n",
       "  </tbody>\n",
       "</table>\n",
       "</div>"
      ],
      "text/plain": [
       "                                                text  target\n",
       "0  Go until jurong point, crazy.. Available only ...       0\n",
       "1                      Ok lar... Joking wif u oni...       0\n",
       "2  Free entry in 2 a wkly comp to win FA Cup fina...       1\n",
       "3  U dun say so early hor... U c already then say...       0\n",
       "4  Nah I don't think he goes to usf, he lives aro...       0\n",
       "5  FreeMsg Hey there darling it's been 3 week's n...       1\n",
       "6  Even my brother is not like to speak with me. ...       0\n",
       "7  As per your request 'Melle Melle (Oru Minnamin...       0\n",
       "8  WINNER!! As a valued network customer you have...       1\n",
       "9  Had your mobile 11 months or more? U R entitle...       1"
      ]
     },
     "execution_count": 2,
     "metadata": {},
     "output_type": "execute_result"
    }
   ],
   "source": [
    "import pandas as pd\n",
    "import numpy as np\n",
    "\n",
    "spam_data = pd.read_csv('spam.csv')\n",
    "\n",
    "spam_data['target'] = np.where(spam_data['target']=='spam',1,0)\n",
    "spam_data.head(10)"
   ]
  },
  {
   "cell_type": "code",
   "execution_count": 3,
   "metadata": {
    "collapsed": true
   },
   "outputs": [],
   "source": [
    "from sklearn.model_selection import train_test_split\n",
    "\n",
    "\n",
    "X_train, X_test, y_train, y_test = train_test_split(spam_data['text'], \n",
    "                                                    spam_data['target'], \n",
    "                                                    random_state=0)"
   ]
  },
  {
   "cell_type": "markdown",
   "metadata": {},
   "source": [
    "### Question 1\n",
    "What percentage of the documents in `spam_data` are spam?\n",
    "\n",
    "*This function should return a float, the percent value (i.e. $ratio * 100$).*"
   ]
  },
  {
   "cell_type": "code",
   "execution_count": 61,
   "metadata": {
    "collapsed": true
   },
   "outputs": [],
   "source": [
    "def answer_one():\n",
    "      \n",
    "    test = spam_data['target'].value_counts()\n",
    "    answer = test.iloc[1]/(test.iloc[0]+test.iloc[1])*100\n",
    "    \n",
    "    print(spam_data['target'].value_counts())\n",
    "    \n",
    "    return answer\n"
   ]
  },
  {
   "cell_type": "code",
   "execution_count": 62,
   "metadata": {},
   "outputs": [
    {
     "name": "stdout",
     "output_type": "stream",
     "text": [
      "0    4825\n",
      "1     747\n",
      "Name: target, dtype: int64\n"
     ]
    },
    {
     "data": {
      "text/plain": [
       "13.406317300789663"
      ]
     },
     "execution_count": 62,
     "metadata": {},
     "output_type": "execute_result"
    }
   ],
   "source": [
    "answer_one()"
   ]
  },
  {
   "cell_type": "markdown",
   "metadata": {},
   "source": [
    "### Question 2\n",
    "\n",
    "Fit the training data `X_train` using a Count Vectorizer with default parameters.\n",
    "\n",
    "What is the longest token in the vocabulary?\n",
    "\n",
    "*This function should return a string.*"
   ]
  },
  {
   "cell_type": "code",
   "execution_count": 80,
   "metadata": {
    "collapsed": true
   },
   "outputs": [],
   "source": [
    "def answer_two():\n",
    "    from sklearn.feature_extraction.text import CountVectorizer\n",
    "    vect = CountVectorizer().fit(X_train)\n",
    "    feature_names = vect.get_feature_names()\n",
    "    \n",
    "    length = 0\n",
    "    for i,name in enumerate(feature_names):\n",
    "        if len(name) > length:\n",
    "            length = len(name)\n",
    "            feature_name = name\n",
    "              \n",
    "    return feature_name"
   ]
  },
  {
   "cell_type": "code",
   "execution_count": 82,
   "metadata": {},
   "outputs": [
    {
     "name": "stdout",
     "output_type": "stream",
     "text": [
      "<class 'str'>\n"
     ]
    },
    {
     "data": {
      "text/plain": [
       "'com1win150ppmx3age16subscription'"
      ]
     },
     "execution_count": 82,
     "metadata": {},
     "output_type": "execute_result"
    }
   ],
   "source": [
    "answer_two()"
   ]
  },
  {
   "cell_type": "markdown",
   "metadata": {},
   "source": [
    "### Question 3\n",
    "\n",
    "Fit and transform the training data `X_train` using a Count Vectorizer with default parameters.\n",
    "\n",
    "Next, fit a fit a multinomial Naive Bayes classifier model with smoothing `alpha=0.1`. Find the area under the curve (AUC) score using the transformed test data.\n",
    "\n",
    "*This function should return the AUC score as a float.*"
   ]
  },
  {
   "cell_type": "code",
   "execution_count": 6,
   "metadata": {
    "collapsed": true
   },
   "outputs": [],
   "source": [
    "from sklearn.naive_bayes import MultinomialNB\n",
    "from sklearn.metrics import roc_auc_score\n",
    "from sklearn.feature_extraction.text import CountVectorizer\n",
    "def answer_three():\n",
    "    \n",
    "    vect = CountVectorizer().fit(X_train)\n",
    "    X_train_vectorized = CountVectorizer().fit_transform(X_train)\n",
    "    X_test_vectorized = vect.transform(X_test)\n",
    "    nbc = MultinomialNB(alpha=0.1).fit(X_train_vectorized,y_train)\n",
    "    predictions = nbc.predict(X_test_vectorized)\n",
    "\n",
    "    auc_score = roc_auc_score(y_test,predictions)\n",
    "    \n",
    "    return auc_score"
   ]
  },
  {
   "cell_type": "code",
   "execution_count": 7,
   "metadata": {},
   "outputs": [
    {
     "data": {
      "text/plain": [
       "0.97208121827411165"
      ]
     },
     "execution_count": 7,
     "metadata": {},
     "output_type": "execute_result"
    }
   ],
   "source": [
    "answer_three()"
   ]
  },
  {
   "cell_type": "markdown",
   "metadata": {},
   "source": [
    "### Question 4\n",
    "\n",
    "Fit and transform the training data `X_train` using a Tfidf Vectorizer with default parameters.\n",
    "\n",
    "What 20 features have the smallest tf-idf and what 20 have the largest tf-idf?\n",
    "\n",
    "Put these features in a two series where each series is sorted by tf-idf value and then alphabetically by feature name. The index of the series should be the feature name, and the data should be the tf-idf.\n",
    "\n",
    "The series of 20 features with smallest tf-idfs should be sorted smallest tfidf first, the list of 20 features with largest tf-idfs should be sorted largest first. \n",
    "\n",
    "*This function should return a tuple of two series\n",
    "`(smallest tf-idfs series, largest tf-idfs series)`.*"
   ]
  },
  {
   "cell_type": "code",
   "execution_count": 42,
   "metadata": {
    "collapsed": true
   },
   "outputs": [],
   "source": [
    "from sklearn.feature_extraction.text import TfidfVectorizer\n",
    "import numpy as np\n",
    "#this question is crap\n",
    "\n",
    "def answer_four():\n",
    "\n",
    "    vect = TfidfVectorizer().fit(X_train)\n",
    "    X_train_vectorized = vect.transform(X_train)\n",
    "    \n",
    "    feature_names = np.array(vect.get_feature_names())\n",
    "    tfidf_index = X_train_vectorized.max(0).toarray()[0].argsort()\n",
    "    \n",
    "    tfidf_coefs = X_train_vectorized.max(0).toarray()[0]\n",
    "    \n",
    "    smallest_coefs = pd.Series(tfidf_coefs[tfidf_index[:20]], index = feature_names[tfidf_index[:20]])\n",
    "    largest_coefs = pd.Series(tfidf_coefs[tfidf_index[-20:]], index = feature_names[tfidf_index[-20:]])\n",
    "    smallest_coefs = smallest_coefs[np.lexsort((smallest_coefs.index, smallest_coefs.values))]\n",
    "    largest_coefs = largest_coefs[np.lexsort((largest_coefs.index, -largest_coefs.values))]\n",
    "    smallest_coefs.name=None\n",
    "    largest_coefs.name=None\n",
    "    smallest_coefs.index.name=None\n",
    "    largest_coefs.index.name=None\n",
    "    \n",
    "    answer = (smallest_coefs, largest_coefs)   \n",
    "   \n",
    "    return answer"
   ]
  },
  {
   "cell_type": "code",
   "execution_count": 43,
   "metadata": {},
   "outputs": [
    {
     "name": "stdout",
     "output_type": "stream",
     "text": [
      "20\n"
     ]
    },
    {
     "data": {
      "text/plain": [
       "(aaniye          0.074475\n",
       " athletic        0.074475\n",
       " chef            0.074475\n",
       " companion       0.074475\n",
       " courageous      0.074475\n",
       " dependable      0.074475\n",
       " determined      0.074475\n",
       " exterminator    0.074475\n",
       " healer          0.074475\n",
       " listener        0.074475\n",
       " organizer       0.074475\n",
       " pest            0.074475\n",
       " psychiatrist    0.074475\n",
       " psychologist    0.074475\n",
       " pudunga         0.074475\n",
       " stylist         0.074475\n",
       " sympathetic     0.074475\n",
       " venaam          0.074475\n",
       " diwali          0.091250\n",
       " mornings        0.091250\n",
       " dtype: float64, 146tf150p    1.000000\n",
       " 645          1.000000\n",
       " anything     1.000000\n",
       " anytime      1.000000\n",
       " beerage      1.000000\n",
       " done         1.000000\n",
       " er           1.000000\n",
       " havent       1.000000\n",
       " home         1.000000\n",
       " lei          1.000000\n",
       " nite         1.000000\n",
       " ok           1.000000\n",
       " okie         1.000000\n",
       " thank        1.000000\n",
       " thanx        1.000000\n",
       " too          1.000000\n",
       " where        1.000000\n",
       " yup          1.000000\n",
       " tick         0.980166\n",
       " blank        0.932702\n",
       " dtype: float64)"
      ]
     },
     "execution_count": 43,
     "metadata": {},
     "output_type": "execute_result"
    }
   ],
   "source": [
    "answer_four()"
   ]
  },
  {
   "cell_type": "markdown",
   "metadata": {},
   "source": [
    "### Question 5\n",
    "\n",
    "Fit and transform the training data `X_train` using a Tfidf Vectorizer ignoring terms that have a document frequency strictly lower than **3**.\n",
    "\n",
    "Then fit a multinomial Naive Bayes classifier model with smoothing `alpha=0.1` and compute the area under the curve (AUC) score using the transformed test data.\n",
    "\n",
    "*This function should return the AUC score as a float.*"
   ]
  },
  {
   "cell_type": "code",
   "execution_count": 144,
   "metadata": {
    "collapsed": true
   },
   "outputs": [],
   "source": [
    "def answer_five():\n",
    "    from sklearn.feature_extraction.text import TfidfVectorizer\n",
    "    from sklearn.naive_bayes import MultinomialNB\n",
    "    from sklearn.metrics import roc_auc_score\n",
    "    vect = TfidfVectorizer(min_df = 3).fit(X_train)\n",
    "    X_train_vectorized = vect.transform(X_train)\n",
    "    X_test_vectorized = vect.transform(X_test)\n",
    "    \n",
    "    nbc = MultinomialNB(alpha=0.1).fit(X_train_vectorized,y_train)\n",
    "    y_predict = nbc.predict(X_test_vectorized)\n",
    "    auc_score = roc_auc_score(y_test,y_predict)   \n",
    "\n",
    "    \n",
    "    return auc_score"
   ]
  },
  {
   "cell_type": "code",
   "execution_count": 145,
   "metadata": {},
   "outputs": [
    {
     "data": {
      "text/plain": [
       "0.99056603773584906"
      ]
     },
     "execution_count": 145,
     "metadata": {},
     "output_type": "execute_result"
    }
   ],
   "source": [
    "answer_five()"
   ]
  },
  {
   "cell_type": "markdown",
   "metadata": {},
   "source": [
    "### Question 6\n",
    "\n",
    "What is the average length of documents (number of characters) for not spam and spam documents?\n",
    "\n",
    "*This function should return a tuple (average length not spam, average length spam).*"
   ]
  },
  {
   "cell_type": "code",
   "execution_count": 27,
   "metadata": {
    "collapsed": true
   },
   "outputs": [],
   "source": [
    "def answer_six():\n",
    "        \n",
    "    spam = spam_data.loc[spam_data.target ==1,'text']\n",
    "    not_spam = spam_data.loc[spam_data.target==0,'text']\n",
    "        \n",
    "    spam_values = spam.values\n",
    "    not_spam_values = not_spam.values\n",
    "    \n",
    "    total_spam=0\n",
    "    count=0\n",
    "    for i,document in enumerate(spam_values):\n",
    "        total_spam += len(str(document))\n",
    "        count+=1\n",
    "        \n",
    "    avg_spam = total_spam/count\n",
    "    \n",
    "    total_not_spam=0\n",
    "    count1=0\n",
    "    for i,document in enumerate(not_spam_values):\n",
    "        total_not_spam += len(str(document))\n",
    "        count1+=1\n",
    "    \n",
    "    avg_not_spam = total_not_spam/count1 \n",
    "    answer = (avg_not_spam,avg_spam)\n",
    "    \n",
    "        \n",
    "    return answer"
   ]
  },
  {
   "cell_type": "code",
   "execution_count": 28,
   "metadata": {},
   "outputs": [
    {
     "name": "stdout",
     "output_type": "stream",
     "text": [
      "Free entry in 2 a wkly comp to win FA Cup final tkts 21st May 2005. Text FA to 87121 to receive entry question(std txt rate)T&C's apply 08452810075over18's\n",
      "155\n"
     ]
    },
    {
     "data": {
      "text/plain": [
       "(71.02362694300518, 138.8661311914324)"
      ]
     },
     "execution_count": 28,
     "metadata": {},
     "output_type": "execute_result"
    }
   ],
   "source": [
    "answer_six()"
   ]
  },
  {
   "cell_type": "markdown",
   "metadata": {},
   "source": [
    "<br>\n",
    "<br>\n",
    "The following function has been provided to help you combine new features into the training data:"
   ]
  },
  {
   "cell_type": "code",
   "execution_count": 8,
   "metadata": {
    "collapsed": true
   },
   "outputs": [],
   "source": [
    "def add_feature(X, feature_to_add):\n",
    "    \"\"\"\n",
    "    Returns sparse feature matrix with added feature.\n",
    "    feature_to_add can also be a list of features.\n",
    "    \"\"\"\n",
    "    \n",
    "    from scipy.sparse import csr_matrix, hstack\n",
    "    return hstack([X, csr_matrix(feature_to_add).T], 'csr')"
   ]
  },
  {
   "cell_type": "markdown",
   "metadata": {},
   "source": [
    "### Question 7\n",
    "\n",
    "Fit and transform the training data X_train using a Tfidf Vectorizer ignoring terms that have a document frequency strictly lower than **5**.\n",
    "\n",
    "Using this document-term matrix and an additional feature, **the length of document (number of characters)**, fit a Support Vector Classification model with regularization `C=10000`. Then compute the area under the curve (AUC) score using the transformed test data.\n",
    "\n",
    "*This function should return the AUC score as a float.*"
   ]
  },
  {
   "cell_type": "code",
   "execution_count": 42,
   "metadata": {
    "collapsed": true
   },
   "outputs": [],
   "source": [
    "from sklearn.svm import SVC\n",
    "from sklearn.feature_extraction.text import TfidfVectorizer\n",
    "from sklearn.metrics import roc_auc_score\n",
    "\n",
    "def answer_seven():\n",
    "    vect = TfidfVectorizer(min_df=5).fit(X_train)\n",
    "    X_train_vectorized = vect.transform(X_train)\n",
    "    X_test_vectorized = vect.transform(X_test)\n",
    "    \n",
    "    X_train_doc_length = []\n",
    "    for i,document in enumerate(X_train):\n",
    "        X_train_doc_length.append(len(str(document)))\n",
    "    X_train_vectorized1 = add_feature(X_train_vectorized,X_train_doc_length)\n",
    "    \n",
    "    X_test_doc_length = []\n",
    "    for i,document in enumerate(X_test):\n",
    "        X_test_doc_length.append(len(str(document)))\n",
    "        \n",
    "    X_test_vectorized1 = add_feature(X_test_vectorized,X_test_doc_length)\n",
    "    \n",
    "    svc = SVC(C=10000).fit(X_train_vectorized1,y_train)\n",
    "    y_predicted = svc.predict(X_test_vectorized1)\n",
    "    auc_score = roc_auc_score(y_test,y_predicted)\n",
    "        \n",
    "    return auc_score"
   ]
  },
  {
   "cell_type": "code",
   "execution_count": 43,
   "metadata": {},
   "outputs": [
    {
     "data": {
      "text/plain": [
       "0.95813668234215565"
      ]
     },
     "execution_count": 43,
     "metadata": {},
     "output_type": "execute_result"
    }
   ],
   "source": [
    "answer_seven()"
   ]
  },
  {
   "cell_type": "markdown",
   "metadata": {},
   "source": [
    "### Question 8\n",
    "\n",
    "What is the average number of digits per document for not spam and spam documents?\n",
    "\n",
    "*This function should return a tuple (average # digits not spam, average # digits spam).*"
   ]
  },
  {
   "cell_type": "code",
   "execution_count": 61,
   "metadata": {
    "collapsed": true
   },
   "outputs": [],
   "source": [
    "import string\n",
    "def answer_eight():\n",
    "    spam = spam_data.loc[spam_data.target ==1,'text'].values\n",
    "    not_spam = spam_data.loc[spam_data.target==0,'text'].values\n",
    "    \n",
    "    spam_digit_total=0\n",
    "    count=0\n",
    "    for i,document in enumerate(spam):\n",
    "        count+=1\n",
    "        for character in document:\n",
    "            if character in string.digits:\n",
    "                spam_digit_total+=1\n",
    "    \n",
    "    not_spam_digit_total=0\n",
    "    count1=0\n",
    "    for i,document in enumerate(not_spam):\n",
    "        count1+=1\n",
    "        for character in document:\n",
    "            if character in string.digits:\n",
    "                not_spam_digit_total+=1\n",
    "                \n",
    "    spam_avg = spam_digit_total/count            \n",
    "    not_spam_avg = not_spam_digit_total/count1\n",
    "    \n",
    "    answer = (not_spam_avg,spam_avg)\n",
    " \n",
    "    return answer"
   ]
  },
  {
   "cell_type": "code",
   "execution_count": 62,
   "metadata": {},
   "outputs": [
    {
     "data": {
      "text/plain": [
       "(0.2992746113989637, 15.759036144578314)"
      ]
     },
     "execution_count": 62,
     "metadata": {},
     "output_type": "execute_result"
    }
   ],
   "source": [
    "answer_eight()"
   ]
  },
  {
   "cell_type": "markdown",
   "metadata": {},
   "source": [
    "### Question 9\n",
    "\n",
    "Fit and transform the training data `X_train` using a Tfidf Vectorizer ignoring terms that have a document frequency strictly lower than **5** and using **word n-grams from n=1 to n=3** (unigrams, bigrams, and trigrams).\n",
    "\n",
    "Using this document-term matrix and the following additional features:\n",
    "* the length of document (number of characters)\n",
    "* **number of digits per document**\n",
    "\n",
    "fit a Logistic Regression model with regularization `C=100`. Then compute the area under the curve (AUC) score using the transformed test data.\n",
    "\n",
    "*This function should return the AUC score as a float.*"
   ]
  },
  {
   "cell_type": "code",
   "execution_count": 98,
   "metadata": {
    "collapsed": true
   },
   "outputs": [],
   "source": [
    "from sklearn.linear_model import LogisticRegression\n",
    "from sklearn.metrics import roc_auc_score\n",
    "import string\n",
    "\n",
    "def answer_nine():\n",
    "    \n",
    "    vect = TfidfVectorizer(min_df = 5, ngram_range=(1,3)).fit(X_train)\n",
    "    X_train_vectorized = vect.transform(X_train)\n",
    "    X_test_vectorized = vect.transform(X_test)\n",
    "    \n",
    "    X_train_doc_length = []\n",
    "    for i,document in enumerate(X_train):\n",
    "        X_train_doc_length.append(len(str(document)))\n",
    "    \n",
    "    X_train_digit_count = []\n",
    "    for i,document in enumerate(X_train):\n",
    "        digits=0\n",
    "        for character in document:\n",
    "            if character in string.digits:\n",
    "                digits+=1\n",
    "            else:\n",
    "                pass\n",
    "        X_train_digit_count.append(digits)\n",
    "                    \n",
    "    X_test_doc_length = []\n",
    "    for i,document in enumerate(X_test):\n",
    "        X_test_doc_length.append(len(str(document)))\n",
    "    \n",
    "    X_test_digit_count = []\n",
    "    for i,document in enumerate(X_test):\n",
    "        digits=0\n",
    "        for character in document:\n",
    "            if character in string.digits:\n",
    "                digits+=1\n",
    "            else:\n",
    "                pass\n",
    "        X_test_digit_count.append(digits)\n",
    "    \n",
    "    X_train_vectorized1 = add_feature(X_train_vectorized,[X_train_doc_length,X_train_digit_count])\n",
    "    X_test_vectorized1 = add_feature(X_test_vectorized,[X_test_doc_length,X_test_digit_count])\n",
    "    \n",
    "    lr = LogisticRegression(C=100).fit(X_train_vectorized1,y_train)\n",
    "    predicted = lr.predict(X_test_vectorized1)\n",
    "    auc_score = roc_auc_score(y_test,predicted)\n",
    "        \n",
    "    return auc_score"
   ]
  },
  {
   "cell_type": "code",
   "execution_count": 99,
   "metadata": {},
   "outputs": [
    {
     "data": {
      "text/plain": [
       "0.96533283533945646"
      ]
     },
     "execution_count": 99,
     "metadata": {},
     "output_type": "execute_result"
    }
   ],
   "source": [
    "answer_nine()"
   ]
  },
  {
   "cell_type": "markdown",
   "metadata": {},
   "source": [
    "### Question 10\n",
    "\n",
    "What is the average number of non-word characters (anything other than a letter, digit or underscore) per document for not spam and spam documents?\n",
    "\n",
    "*Hint: Use `\\w` and `\\W` character classes*\n",
    "\n",
    "*This function should return a tuple (average # non-word characters not spam, average # non-word characters spam).*"
   ]
  },
  {
   "cell_type": "code",
   "execution_count": 12,
   "metadata": {
    "collapsed": true
   },
   "outputs": [],
   "source": [
    "import re\n",
    "def answer_ten():\n",
    "    \n",
    "    spam = spam_data.loc[spam_data.target ==1,'text'].values\n",
    "    not_spam = spam_data.loc[spam_data.target==0,'text'].values\n",
    "    \n",
    "    non_word_chars = 0\n",
    "    total =0\n",
    "    for i,document in enumerate(spam):\n",
    "        for char in re.findall('[\\W]',document):\n",
    "            non_word_chars+=1\n",
    "        total+= 1\n",
    "    avg_non_word_spam = non_word_chars/total\n",
    "    \n",
    "    non_word_chars1=0\n",
    "    total1=0\n",
    "    for i,document in enumerate(not_spam):\n",
    "        for char in re.findall('[\\W]',document):\n",
    "            non_word_chars1+=1\n",
    "        total1+=1\n",
    "    avg_non_word_not_spam = non_word_chars1/total1\n",
    "    \n",
    "    answer = (avg_non_word_not_spam,avg_non_word_spam)\n",
    "    \n",
    "    return answer"
   ]
  },
  {
   "cell_type": "code",
   "execution_count": 13,
   "metadata": {},
   "outputs": [
    {
     "data": {
      "text/plain": [
       "(17.29181347150259, 29.041499330655956)"
      ]
     },
     "execution_count": 13,
     "metadata": {},
     "output_type": "execute_result"
    }
   ],
   "source": [
    "answer_ten()"
   ]
  },
  {
   "cell_type": "markdown",
   "metadata": {},
   "source": [
    "### Question 11\n",
    "\n",
    "Fit and transform the training data X_train using a Count Vectorizer ignoring terms that have a document frequency strictly lower than **5** and using **character n-grams from n=2 to n=5.**\n",
    "\n",
    "To tell Count Vectorizer to use character n-grams pass in `analyzer='char_wb'` which creates character n-grams only from text inside word boundaries. This should make the model more robust to spelling mistakes.\n",
    "\n",
    "Using this document-term matrix and the following additional features:\n",
    "* the length of document (number of characters)\n",
    "* number of digits per document\n",
    "* **number of non-word characters (anything other than a letter, digit or underscore.)**\n",
    "\n",
    "fit a Logistic Regression model with regularization C=100. Then compute the area under the curve (AUC) score using the transformed test data.\n",
    "\n",
    "Also **find the 10 smallest and 10 largest coefficients from the model** and return them along with the AUC score in a tuple.\n",
    "\n",
    "The list of 10 smallest coefficients should be sorted smallest first, the list of 10 largest coefficients should be sorted largest first.\n",
    "\n",
    "The three features that were added to the document term matrix should have the following names should they appear in the list of coefficients:\n",
    "['length_of_doc', 'digit_count', 'non_word_char_count']\n",
    "\n",
    "*This function should return a tuple `(AUC score as a float, smallest coefs list, largest coefs list)`.*"
   ]
  },
  {
   "cell_type": "code",
   "execution_count": 59,
   "metadata": {
    "collapsed": true
   },
   "outputs": [],
   "source": [
    "from sklearn.feature_extraction.text import CountVectorizer\n",
    "from sklearn.linear_model import LogisticRegression\n",
    "from sklearn.metrics import roc_auc_score\n",
    "import string\n",
    "import re\n",
    "\n",
    "def answer_eleven():\n",
    "    vect = CountVectorizer(min_df=5, ngram_range=(2,5), analyzer = 'char_wb').fit(X_train)\n",
    "    X_train_vectorized = vect.transform(X_train)\n",
    "    X_test_vectorized = vect.transform(X_test)\n",
    "    \n",
    "    \n",
    "    X_train_doc_length = []\n",
    "    for i,document in enumerate(X_train):\n",
    "        X_train_doc_length.append(len(str(document)))\n",
    "    \n",
    "    X_train_digit_count = []\n",
    "    for i,document in enumerate(X_train):\n",
    "        digits=0\n",
    "        for character in document:\n",
    "            if character in string.digits:\n",
    "                digits+=1\n",
    "            else:\n",
    "                pass\n",
    "        X_train_digit_count.append(digits)\n",
    "        \n",
    "    X_train_non_word_count =[]\n",
    "    for i,document in enumerate(X_train):\n",
    "        non_char_count=0\n",
    "        for char in re.findall('[\\W]',document):\n",
    "            non_char_count+=1\n",
    "        X_train_non_word_count.append(non_char_count)\n",
    "        \n",
    "    X_test_doc_length = []\n",
    "    for i,document in enumerate(X_test):\n",
    "        X_test_doc_length.append(len(str(document)))\n",
    "    \n",
    "    X_test_digit_count = []\n",
    "    for i,document in enumerate(X_test):\n",
    "        digits=0\n",
    "        for character in document:\n",
    "            if character in string.digits:\n",
    "                digits+=1\n",
    "            else:\n",
    "                pass\n",
    "        X_test_digit_count.append(digits)\n",
    "        \n",
    "    X_test_non_word_count =[]\n",
    "    for i,document in enumerate(X_test):\n",
    "        non_char_count=0\n",
    "        for char in re.findall('[\\W]',document):\n",
    "            non_char_count+=1\n",
    "        X_test_non_word_count.append(non_char_count)\n",
    "    \n",
    "    X_train_vectorized1 = add_feature(X_train_vectorized,[X_train_non_word_count,X_train_doc_length,X_train_digit_count])\n",
    "    X_test_vectorized1 = add_feature(X_test_vectorized,[X_test_non_word_count,X_test_doc_length,X_test_digit_count])\n",
    "    feat_dict = list(vect.vocabulary_.keys())\n",
    "    feat_dict.extend(['length_of_doc', 'digit_count', 'non_word_char_count'])\n",
    "\n",
    "    lr = LogisticRegression(C=100).fit(X_train_vectorized1,y_train)\n",
    "    predicted = lr.predict(X_test_vectorized1)\n",
    "    auc_score = roc_auc_score(y_test,predicted)\n",
    "    \n",
    "    coef_vector = list(lr.coef_.reshape(-1,))    \n",
    "    combined = list(zip(feat_dict,coef_vector))\n",
    "    combined_sorted = sorted(combined,key=lambda x:x[1])\n",
    "\n",
    "    \n",
    "    smallest_coefs_sorted = combined_sorted[:20]\n",
    "    largest_coefs_sorted = sorted(combined_sorted[-20:],key = lambda x:x[1],reverse = True)\n",
    "    answer = (auc_score,smallest_coefs_sorted,largest_coefs_sorted)\n",
    "    \n",
    "    return answer"
   ]
  },
  {
   "cell_type": "code",
   "execution_count": 60,
   "metadata": {},
   "outputs": [
    {
     "data": {
      "text/plain": [
       "(0.97885931107074342,\n",
       " [('r!!', -0.8697461295504948),\n",
       "  ('she ', -0.86086299321652759),\n",
       "  ('me! ', -0.67696400115530198),\n",
       "  ('rs ', -0.66701140148209648),\n",
       "  ('pla', -0.61489042105839087),\n",
       "  (\"y'\", -0.57959751813141536),\n",
       "  ('icial', -0.53507072285256296),\n",
       "  ('£15', -0.50576241835832836),\n",
       "  ('ion, ', -0.4985158795239702),\n",
       "  (' day!', -0.49094259333123119),\n",
       "  (' cc', -0.47758774921619618),\n",
       "  ('temen', -0.46188548745553409),\n",
       "  ('7191', -0.45588747619365666),\n",
       "  ('ve, ', -0.44722003738264143),\n",
       "  ('lo', -0.44270815343141934),\n",
       "  ('0634', -0.43754596479296431),\n",
       "  (' 18+', -0.43731950736906111),\n",
       "  (\"&c'\", -0.43129972726275501),\n",
       "  ('fail', -0.41136534998423968),\n",
       "  ('cial ', -0.40320153520747692)],\n",
       " [('non_word_char_count', 1.2122153375321212),\n",
       "  ('ap.', 0.59777410070619652),\n",
       "  ('must ', 0.54148779254563262),\n",
       "  (' argu', 0.53875692971648048),\n",
       "  ('holla', 0.52147626915208134),\n",
       "  ('sex', 0.52035795124128148),\n",
       "  ('invit', 0.51786653794273207),\n",
       "  ('rman', 0.51609102968913911),\n",
       "  ('*9 ', 0.50866380195813476),\n",
       "  ('num', 0.50264997145304835),\n",
       "  (' hug', 0.47873329647492735),\n",
       "  ('riv', 0.45449868706697782),\n",
       "  ('are. ', 0.45214118984314389),\n",
       "  ('top ', 0.44653421636696933),\n",
       "  ('ck! ', 0.43695739801124922),\n",
       "  ('ality', 0.41383426083102637),\n",
       "  ('3, ', 0.41311147183531682),\n",
       "  ('ued', 0.40804918616523222),\n",
       "  (' 80', 0.4021962595349482),\n",
       "  ('good ', 0.4021553264176646)])"
      ]
     },
     "execution_count": 60,
     "metadata": {},
     "output_type": "execute_result"
    }
   ],
   "source": [
    "answer_eleven()"
   ]
  },
  {
   "cell_type": "code",
   "execution_count": null,
   "metadata": {
    "collapsed": true
   },
   "outputs": [],
   "source": []
  }
 ],
 "metadata": {
  "coursera": {
   "course_slug": "python-text-mining",
   "graded_item_id": "Pn19K",
   "launcher_item_id": "y1juS",
   "part_id": "ctlgo"
  },
  "kernelspec": {
   "display_name": "Python 3",
   "language": "python",
   "name": "python3"
  },
  "language_info": {
   "codemirror_mode": {
    "name": "ipython",
    "version": 3
   },
   "file_extension": ".py",
   "mimetype": "text/x-python",
   "name": "python",
   "nbconvert_exporter": "python",
   "pygments_lexer": "ipython3",
   "version": "3.6.2"
  }
 },
 "nbformat": 4,
 "nbformat_minor": 2
}
