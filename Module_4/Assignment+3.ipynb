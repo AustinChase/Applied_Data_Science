{
 "cells": [
  {
   "cell_type": "markdown",
   "metadata": {},
   "source": [
    "---\n",
    "\n",
    "_You are currently looking at **version 1.1** of this notebook. To download notebooks and datafiles, as well as get help on Jupyter notebooks in the Coursera platform, visit the [Jupyter Notebook FAQ](https://www.coursera.org/learn/python-text-mining/resources/d9pwm) course resource._\n",
    "\n",
    "---"
   ]
  },
  {
   "cell_type": "markdown",
   "metadata": {},
   "source": [
    "# Assignment 3\n",
    "\n",
    "In this assignment you will explore text message data and create models to predict if a message is spam or not. "
   ]
  },
  {
   "cell_type": "code",
   "execution_count": 2,
   "metadata": {},
   "outputs": [
    {
     "data": {
      "text/html": [
       "<div>\n",
       "<style scoped>\n",
       "    .dataframe tbody tr th:only-of-type {\n",
       "        vertical-align: middle;\n",
       "    }\n",
       "\n",
       "    .dataframe tbody tr th {\n",
       "        vertical-align: top;\n",
       "    }\n",
       "\n",
       "    .dataframe thead th {\n",
       "        text-align: right;\n",
       "    }\n",
       "</style>\n",
       "<table border=\"1\" class=\"dataframe\">\n",
       "  <thead>\n",
       "    <tr style=\"text-align: right;\">\n",
       "      <th></th>\n",
       "      <th>text</th>\n",
       "      <th>target</th>\n",
       "    </tr>\n",
       "  </thead>\n",
       "  <tbody>\n",
       "    <tr>\n",
       "      <th>0</th>\n",
       "      <td>Go until jurong point, crazy.. Available only ...</td>\n",
       "      <td>0</td>\n",
       "    </tr>\n",
       "    <tr>\n",
       "      <th>1</th>\n",
       "      <td>Ok lar... Joking wif u oni...</td>\n",
       "      <td>0</td>\n",
       "    </tr>\n",
       "    <tr>\n",
       "      <th>2</th>\n",
       "      <td>Free entry in 2 a wkly comp to win FA Cup fina...</td>\n",
       "      <td>1</td>\n",
       "    </tr>\n",
       "    <tr>\n",
       "      <th>3</th>\n",
       "      <td>U dun say so early hor... U c already then say...</td>\n",
       "      <td>0</td>\n",
       "    </tr>\n",
       "    <tr>\n",
       "      <th>4</th>\n",
       "      <td>Nah I don't think he goes to usf, he lives aro...</td>\n",
       "      <td>0</td>\n",
       "    </tr>\n",
       "    <tr>\n",
       "      <th>5</th>\n",
       "      <td>FreeMsg Hey there darling it's been 3 week's n...</td>\n",
       "      <td>1</td>\n",
       "    </tr>\n",
       "    <tr>\n",
       "      <th>6</th>\n",
       "      <td>Even my brother is not like to speak with me. ...</td>\n",
       "      <td>0</td>\n",
       "    </tr>\n",
       "    <tr>\n",
       "      <th>7</th>\n",
       "      <td>As per your request 'Melle Melle (Oru Minnamin...</td>\n",
       "      <td>0</td>\n",
       "    </tr>\n",
       "    <tr>\n",
       "      <th>8</th>\n",
       "      <td>WINNER!! As a valued network customer you have...</td>\n",
       "      <td>1</td>\n",
       "    </tr>\n",
       "    <tr>\n",
       "      <th>9</th>\n",
       "      <td>Had your mobile 11 months or more? U R entitle...</td>\n",
       "      <td>1</td>\n",
       "    </tr>\n",
       "  </tbody>\n",
       "</table>\n",
       "</div>"
      ],
      "text/plain": [
       "                                                text  target\n",
       "0  Go until jurong point, crazy.. Available only ...       0\n",
       "1                      Ok lar... Joking wif u oni...       0\n",
       "2  Free entry in 2 a wkly comp to win FA Cup fina...       1\n",
       "3  U dun say so early hor... U c already then say...       0\n",
       "4  Nah I don't think he goes to usf, he lives aro...       0\n",
       "5  FreeMsg Hey there darling it's been 3 week's n...       1\n",
       "6  Even my brother is not like to speak with me. ...       0\n",
       "7  As per your request 'Melle Melle (Oru Minnamin...       0\n",
       "8  WINNER!! As a valued network customer you have...       1\n",
       "9  Had your mobile 11 months or more? U R entitle...       1"
      ]
     },
     "execution_count": 2,
     "metadata": {},
     "output_type": "execute_result"
    }
   ],
   "source": [
    "import pandas as pd\n",
    "import numpy as np\n",
    "\n",
    "spam_data = pd.read_csv('spam.csv')\n",
    "\n",
    "spam_data['target'] = np.where(spam_data['target']=='spam',1,0)\n",
    "#replace categorical variable with 1 or 0\n",
    "\n",
    "spam_data.head(10)"
   ]
  },
  {
   "cell_type": "code",
   "execution_count": 3,
   "metadata": {},
   "outputs": [],
   "source": [
    "from sklearn.model_selection import train_test_split\n",
    "\n",
    "X_train, X_test, y_train, y_test = train_test_split(spam_data['text'], \n",
    "                                                    spam_data['target'], \n",
    "                                                    random_state=0)"
   ]
  },
  {
   "cell_type": "markdown",
   "metadata": {},
   "source": [
    "### Question 1\n",
    "What percentage of the documents in `spam_data` are spam?\n",
    "\n",
    "*This function should return a float, the percent value (i.e. $ratio * 100$).*"
   ]
  },
  {
   "cell_type": "code",
   "execution_count": 13,
   "metadata": {},
   "outputs": [
    {
     "data": {
      "text/plain": [
       "13.406317300789663"
      ]
     },
     "execution_count": 13,
     "metadata": {},
     "output_type": "execute_result"
    }
   ],
   "source": [
    "def answer_one():\n",
    "      \n",
    "    counts = spam_data['target'].value_counts()\n",
    "    \n",
    "    answer = counts.iloc[1]/(counts.iloc[0]+counts.iloc[1])*100\n",
    "        \n",
    "    return answer\n",
    "\n",
    "answer_one()"
   ]
  },
  {
   "cell_type": "markdown",
   "metadata": {},
   "source": [
    "### Question 2\n",
    "\n",
    "Fit the training data `X_train` using a Count Vectorizer with default parameters.\n",
    "\n",
    "What is the longest token in the vocabulary?\n",
    "\n",
    "*This function should return a string.*"
   ]
  },
  {
   "cell_type": "code",
   "execution_count": 22,
   "metadata": {},
   "outputs": [
    {
     "data": {
      "text/plain": [
       "'com1win150ppmx3age16subscription'"
      ]
     },
     "execution_count": 22,
     "metadata": {},
     "output_type": "execute_result"
    }
   ],
   "source": [
    "from sklearn.feature_extraction.text import CountVectorizer\n",
    "\n",
    "def answer_two():\n",
    "\n",
    "    vect = CountVectorizer().fit(X_train)\n",
    "    feature_names = vect.get_feature_names()\n",
    "    #instantiate count vectorizer and get feature names from X_train\n",
    "\n",
    "    feature_lengths = pd.Series([len(feature) for feature in feature_names], \n",
    "                                index = feature_names)\n",
    "    \n",
    "    longest_feature = feature_lengths.idxmax()\n",
    "                  \n",
    "    return longest_feature\n",
    "\n",
    "answer_two()"
   ]
  },
  {
   "cell_type": "markdown",
   "metadata": {},
   "source": [
    "### Question 3\n",
    "\n",
    "Fit and transform the training data `X_train` using a Count Vectorizer with default parameters.\n",
    "\n",
    "Next, fit a fit a multinomial Naive Bayes classifier model with smoothing `alpha=0.1`. Find the area under the curve (AUC) score using the transformed test data.\n",
    "\n",
    "*This function should return the AUC score as a float.*"
   ]
  },
  {
   "cell_type": "code",
   "execution_count": 29,
   "metadata": {},
   "outputs": [
    {
     "data": {
      "text/plain": [
       "0.9720812182741116"
      ]
     },
     "execution_count": 29,
     "metadata": {},
     "output_type": "execute_result"
    }
   ],
   "source": [
    "from sklearn.naive_bayes import MultinomialNB\n",
    "from sklearn.metrics import roc_auc_score\n",
    "from sklearn.feature_extraction.text import CountVectorizer\n",
    "\n",
    "def answer_three():\n",
    "    \n",
    "    vect = CountVectorizer().fit(X_train) \n",
    "    \n",
    "    #instatiate a countvectorizer object and fit to X_train\n",
    "    \n",
    "    X_train_vectorized = (CountVectorizer()\n",
    "                          .fit_transform(X_train))\n",
    "    #create matrix of token counts on X_train\n",
    "        \n",
    "    X_test_vectorized = vect.transform(X_test)\n",
    "    #create matrix of token counts on X_test\n",
    "    \n",
    "    nbc = MultinomialNB(alpha=0.1).fit(X_train_vectorized,y_train)\n",
    "    \n",
    "    predictions = nbc.predict(X_test_vectorized)\n",
    "\n",
    "    auc_score = roc_auc_score(y_test,predictions)\n",
    "    #When using normalized units, the area under the curve (often referred to as simply the AUC) \n",
    "    #is equal to the probability that a classifier will rank a randomly chosen positive instance \n",
    "    #higher than a randomly chosen negative one (assuming 'positive' ranks higher than 'negative')\n",
    "    \n",
    "    return auc_score\n",
    "\n",
    "answer_three()"
   ]
  },
  {
   "cell_type": "markdown",
   "metadata": {},
   "source": [
    "### Question 4\n",
    "\n",
    "Fit and transform the training data `X_train` using a Tfidf Vectorizer with default parameters.\n",
    "\n",
    "What 20 features have the smallest tf-idf and what 20 have the largest tf-idf?\n",
    "\n",
    "Put these features in a two series where each series is sorted by tf-idf value and then alphabetically by feature name. The index of the series should be the feature name, and the data should be the tf-idf.\n",
    "\n",
    "The series of 20 features with smallest tf-idfs should be sorted smallest tfidf first, the list of 20 features with largest tf-idfs should be sorted largest first. \n",
    "\n",
    "*This function should return a tuple of two series\n",
    "`(smallest tf-idfs series, largest tf-idfs series)`.*"
   ]
  },
  {
   "cell_type": "code",
   "execution_count": 51,
   "metadata": {},
   "outputs": [
    {
     "data": {
      "text/plain": [
       "(aaniye          0.074475\n",
       " athletic        0.074475\n",
       " chef            0.074475\n",
       " companion       0.074475\n",
       " courageous      0.074475\n",
       " dependable      0.074475\n",
       " determined      0.074475\n",
       " exterminator    0.074475\n",
       " healer          0.074475\n",
       " listener        0.074475\n",
       " organizer       0.074475\n",
       " pest            0.074475\n",
       " psychiatrist    0.074475\n",
       " psychologist    0.074475\n",
       " pudunga         0.074475\n",
       " stylist         0.074475\n",
       " sympathetic     0.074475\n",
       " venaam          0.074475\n",
       " diwali          0.091250\n",
       " mornings        0.091250\n",
       " dtype: float64,\n",
       " 146tf150p    1.000000\n",
       " 645          1.000000\n",
       " anything     1.000000\n",
       " anytime      1.000000\n",
       " beerage      1.000000\n",
       " done         1.000000\n",
       " er           1.000000\n",
       " havent       1.000000\n",
       " home         1.000000\n",
       " lei          1.000000\n",
       " nite         1.000000\n",
       " ok           1.000000\n",
       " okie         1.000000\n",
       " thank        1.000000\n",
       " thanx        1.000000\n",
       " too          1.000000\n",
       " where        1.000000\n",
       " yup          1.000000\n",
       " tick         0.980166\n",
       " blank        0.932702\n",
       " dtype: float64)"
      ]
     },
     "execution_count": 51,
     "metadata": {},
     "output_type": "execute_result"
    }
   ],
   "source": [
    "from sklearn.feature_extraction.text import TfidfVectorizer\n",
    "import numpy as np\n",
    "\n",
    "#question not worded correctly\n",
    "\n",
    "def answer_four():\n",
    "\n",
    "    vect = TfidfVectorizer().fit(X_train)\n",
    "    \n",
    "    X_train_vectorized = vect.transform(X_train)\n",
    "    \n",
    "    feature_names = np.array(vect.get_feature_names())\n",
    "        \n",
    "    tfidf_index = (X_train_vectorized\n",
    "                   .max(0)\n",
    "                   .toarray()[0]\n",
    "                   .argsort())\n",
    "    #get the feature with maximum count for each document. Convert it to an array and return the sorted index\n",
    "    \n",
    "    tfidf_coefs = X_train_vectorized.max(0).toarray()[0]\n",
    "    #get the features and convert to an array\n",
    "    \n",
    "    smallest_coefs = pd.Series(tfidf_coefs[tfidf_index[:20]], \n",
    "                               index = feature_names[tfidf_index[:20]])\n",
    "    \n",
    "    largest_coefs = pd.Series(tfidf_coefs[tfidf_index[-20:]], \n",
    "                              index = feature_names[tfidf_index[-20:]])\n",
    "    #use masking to return the 20 smallest and 20 largest tf-idf scores    \n",
    "    \n",
    "    smallest_coefs = smallest_coefs[np.lexsort((smallest_coefs.index, \n",
    "                                                smallest_coefs.values))]\n",
    "    #sort by value and then by feature name\n",
    "    \n",
    "    largest_coefs = largest_coefs[np.lexsort((largest_coefs.index, \n",
    "                                              -largest_coefs.values))]\n",
    "    \n",
    "#     #remove names and indexes for autograder\n",
    "#     smallest_coefs.name=None\n",
    "#     largest_coefs.name=None\n",
    "#     smallest_coefs.index.name=None\n",
    "#     largest_coefs.index.name=None\n",
    "    \n",
    "    answer = (smallest_coefs, largest_coefs)   \n",
    "   \n",
    "    return answer\n",
    "\n",
    "answer_four()"
   ]
  },
  {
   "cell_type": "markdown",
   "metadata": {},
   "source": [
    "### Question 5\n",
    "\n",
    "Fit and transform the training data `X_train` using a Tfidf Vectorizer ignoring terms that have a document frequency strictly lower than **3**.\n",
    "\n",
    "Then fit a multinomial Naive Bayes classifier model with smoothing `alpha=0.1` and compute the area under the curve (AUC) score using the transformed test data.\n",
    "\n",
    "*This function should return the AUC score as a float.*"
   ]
  },
  {
   "cell_type": "code",
   "execution_count": 52,
   "metadata": {},
   "outputs": [
    {
     "data": {
      "text/plain": [
       "0.9416243654822335"
      ]
     },
     "execution_count": 52,
     "metadata": {},
     "output_type": "execute_result"
    }
   ],
   "source": [
    "from sklearn.feature_extraction.text import TfidfVectorizer\n",
    "from sklearn.naive_bayes import MultinomialNB\n",
    "from sklearn.metrics import roc_auc_score\n",
    "\n",
    "def answer_five():\n",
    "\n",
    "    vect = TfidfVectorizer(min_df = 3).fit(X_train)\n",
    "    \n",
    "    X_train_vectorized = vect.transform(X_train)\n",
    "    \n",
    "    X_test_vectorized = vect.transform(X_test)\n",
    "    \n",
    "    nbc = MultinomialNB(alpha=0.1).fit(X_train_vectorized,y_train)\n",
    "    \n",
    "    y_predict = nbc.predict(X_test_vectorized)\n",
    "    \n",
    "    auc_score = roc_auc_score(y_test,y_predict)   \n",
    "    \n",
    "    return auc_score\n",
    "\n",
    "answer_five()"
   ]
  },
  {
   "cell_type": "markdown",
   "metadata": {},
   "source": [
    "### Question 6\n",
    "\n",
    "What is the average length of documents (number of characters) for not spam and spam documents?\n",
    "\n",
    "*This function should return a tuple (average length not spam, average length spam).*"
   ]
  },
  {
   "cell_type": "code",
   "execution_count": 63,
   "metadata": {},
   "outputs": [
    {
     "data": {
      "text/plain": [
       "(71.02362694300518, 138.8661311914324)"
      ]
     },
     "execution_count": 63,
     "metadata": {},
     "output_type": "execute_result"
    }
   ],
   "source": [
    "def answer_six():\n",
    "        \n",
    "    spam = spam_data.loc[spam_data.target ==1,'text']\n",
    "    not_spam = spam_data.loc[spam_data.target==0,'text']\n",
    "        \n",
    "    mean_len_spam = (pd.Series([len(spam) for spam in spam_data.loc[spam_data.target ==1,'text']\n",
    "                                .values])\n",
    "                     .mean())\n",
    "    \n",
    "    mean_len_not_spam = (pd.Series([len(spam) for spam in spam_data.loc[spam_data.target ==0,'text']\n",
    "                                    .values])\n",
    "                         .mean())\n",
    "    #use list comphrenesion to calculate the length of each document and \n",
    "    #then use series method to calculate mean    \n",
    "    \n",
    "    answer = (mean_len_not_spam, mean_len_spam)\n",
    "    \n",
    "    return answer\n",
    "\n",
    "answer_six()"
   ]
  },
  {
   "cell_type": "markdown",
   "metadata": {},
   "source": [
    "<br>\n",
    "<br>\n",
    "The following function has been provided to help you combine new features into the training data:"
   ]
  },
  {
   "cell_type": "code",
   "execution_count": 5,
   "metadata": {},
   "outputs": [],
   "source": [
    "def add_feature(X, feature_to_add):\n",
    "    \"\"\"\n",
    "    Returns sparse feature matrix with added feature.\n",
    "    feature_to_add can also be a list of features.\n",
    "    \"\"\"\n",
    "    \n",
    "    from scipy.sparse import csr_matrix, hstack\n",
    "    return hstack([X, csr_matrix(feature_to_add).T], 'csr')\n",
    "\n",
    "#convert new feature to csr_matrix, transpose it, and then stack horizontally with original array. "
   ]
  },
  {
   "cell_type": "markdown",
   "metadata": {},
   "source": [
    "### Question 7\n",
    "\n",
    "Fit and transform the training data X_train using a Tfidf Vectorizer ignoring terms that have a document frequency strictly lower than **5**.\n",
    "\n",
    "Using this document-term matrix and an additional feature, **the length of document (number of characters)**, fit a Support Vector Classification model with regularization `C=10000`. Then compute the area under the curve (AUC) score using the transformed test data.\n",
    "\n",
    "*This function should return the AUC score as a float.*"
   ]
  },
  {
   "cell_type": "code",
   "execution_count": 76,
   "metadata": {},
   "outputs": [
    {
     "data": {
      "text/plain": [
       "0.9661689557407943"
      ]
     },
     "execution_count": 76,
     "metadata": {},
     "output_type": "execute_result"
    }
   ],
   "source": [
    "from sklearn.svm import SVC\n",
    "from sklearn.feature_extraction.text import TfidfVectorizer\n",
    "from sklearn.metrics import roc_auc_score\n",
    "\n",
    "def answer_seven():\n",
    "    \n",
    "    vect = TfidfVectorizer(min_df=5).fit(X_train)\n",
    "    X_train_vectorized = vect.transform(X_train)\n",
    "    X_test_vectorized = vect.transform(X_test)\n",
    "    #fit and transform X_train and X_test with tfidf vectorizer\n",
    "    \n",
    "    X_train_doc_length = [len(str(document)) for document in X_train]\n",
    "    X_train_vectorized1 = add_feature(X_train_vectorized,\n",
    "                                      X_train_doc_length)\n",
    "        \n",
    "    X_test_doc_length = [len(str(document)) for document in X_test]\n",
    "    X_test_vectorized1 = add_feature(X_test_vectorized,X_test_doc_length)\n",
    "    #create new featurea based on the length of each document. \n",
    "    #call add_feature function to add the new feature to the original array\n",
    "    \n",
    "    clf = SVC(C=10000).fit(X_train_vectorized1,y_train)\n",
    "    \n",
    "    y_predicted = clf.predict(X_test_vectorized1)\n",
    "    \n",
    "    auc_score = roc_auc_score(y_test,y_predicted)\n",
    "        \n",
    "    return auc_score\n",
    "\n",
    "answer_seven()"
   ]
  },
  {
   "cell_type": "markdown",
   "metadata": {},
   "source": [
    "### Question 8\n",
    "\n",
    "What is the average number of digits per document for not spam and spam documents?\n",
    "\n",
    "*This function should return a tuple (average # digits not spam, average # digits spam).*"
   ]
  },
  {
   "cell_type": "code",
   "execution_count": 99,
   "metadata": {
    "scrolled": false
   },
   "outputs": [
    {
     "data": {
      "text/plain": [
       "(0.2992746113989637, 15.759036144578314)"
      ]
     },
     "execution_count": 99,
     "metadata": {},
     "output_type": "execute_result"
    }
   ],
   "source": [
    "import string\n",
    "\n",
    "def answer_eight():\n",
    "    \n",
    "    spam = spam_data.loc[spam_data.target ==1,'text'].values\n",
    "    not_spam = spam_data.loc[spam_data.target==0,'text'].values\n",
    "    \n",
    "    len_spam_digit = 0\n",
    "    for document in spam:\n",
    "        len_spam_digit += len([character for character in document if character in string.digits])\n",
    "    \n",
    "    len_not_spam_digit = 0\n",
    "    for document in not_spam:\n",
    "        len_not_spam_digit += len([character for character in document if character in string.digits])\n",
    "    #loop through each document in the corpus and create a list of digits, \n",
    "    #then sum the total number of digits\n",
    "        \n",
    "    mean_spam = len_spam_digit/len(spam)\n",
    "    mean_not_spam = len_not_spam_digit/len(not_spam)\n",
    "    #calculate the total number of digits / total number of documents for the mean digits per document\n",
    "    \n",
    "    answer = (mean_not_spam,mean_spam)\n",
    " \n",
    "    return answer\n",
    "\n",
    "answer_eight()"
   ]
  },
  {
   "cell_type": "markdown",
   "metadata": {},
   "source": [
    "### Question 9\n",
    "\n",
    "Fit and transform the training data `X_train` using a Tfidf Vectorizer ignoring terms that have a document frequency strictly lower than **5** and using **word n-grams from n=1 to n=3** (unigrams, bigrams, and trigrams).\n",
    "\n",
    "Using this document-term matrix and the following additional features:\n",
    "* the length of document (number of characters)\n",
    "* **number of digits per document**\n",
    "\n",
    "fit a Logistic Regression model with regularization `C=100`. Then compute the area under the curve (AUC) score using the transformed test data.\n",
    "\n",
    "*This function should return the AUC score as a float.*"
   ]
  },
  {
   "cell_type": "code",
   "execution_count": 118,
   "metadata": {},
   "outputs": [
    {
     "data": {
      "text/plain": [
       "0.9653328353394565"
      ]
     },
     "execution_count": 118,
     "metadata": {},
     "output_type": "execute_result"
    }
   ],
   "source": [
    "from sklearn.linear_model import LogisticRegression\n",
    "from sklearn.metrics import roc_auc_score\n",
    "import string\n",
    "\n",
    "def answer_nine():\n",
    "    \n",
    "    vect = TfidfVectorizer(min_df = 5, ngram_range=(1,3)).fit(X_train)\n",
    "    X_train_vectorized = vect.transform(X_train)\n",
    "    X_test_vectorized = vect.transform(X_test)\n",
    "    \n",
    "    X_train_doc_length = [len(str(document)) for document in X_train]\n",
    "    #use list comprehension to calculate the length of each document in X_train\n",
    "    \n",
    "    X_train_digit_count = []\n",
    "    for i,document in enumerate(X_train):\n",
    "        (X_train_digit_count\n",
    "         .append(len([character for character in document if character in string.digits])))\n",
    "        #loop through each document in X_train and count the number of digits in each document. \n",
    "        #Create a list with the counts\n",
    "    \n",
    "    X_test_doc_length = [len(str(document)) for document in X_test]\n",
    "     #use list comprehension to calculate the length of each document in X_train\n",
    "    \n",
    "    X_test_digit_count = []\n",
    "    \n",
    "    for i,document in enumerate(X_test):\n",
    "        (X_test_digit_count\n",
    "         .append(len([character for character in document if character in string.digits])))\n",
    "        #loop through each document in X_train and count the number of digits in each document. \n",
    "        #Create a list with the counts\n",
    "    \n",
    "    X_train_vectorized1 = add_feature(X_train_vectorized,\n",
    "                                      [X_train_doc_length,\n",
    "                                       X_train_digit_count])\n",
    "    X_test_vectorized1 = add_feature(X_test_vectorized,\n",
    "                                     [X_test_doc_length,\n",
    "                                      X_test_digit_count])\n",
    "    #use add feature to add doc length and digit count to the original array\n",
    "    \n",
    "    lr = (LogisticRegression(solver = 'liblinear',\n",
    "                             C=100)\n",
    "          .fit(X_train_vectorized1,y_train))\n",
    "    \n",
    "    predicted = lr.predict(X_test_vectorized1)\n",
    "    \n",
    "    auc_score = roc_auc_score(y_test,predicted)\n",
    "        \n",
    "    return auc_score\n",
    "\n",
    "answer_nine()"
   ]
  },
  {
   "cell_type": "markdown",
   "metadata": {},
   "source": [
    "### Question 10\n",
    "\n",
    "What is the average number of non-word characters (anything other than a letter, digit or underscore) per document for not spam and spam documents?\n",
    "\n",
    "*Hint: Use `\\w` and `\\W` character classes*\n",
    "\n",
    "*This function should return a tuple (average # non-word characters not spam, average # non-word characters spam).*"
   ]
  },
  {
   "cell_type": "code",
   "execution_count": 137,
   "metadata": {},
   "outputs": [
    {
     "data": {
      "text/plain": [
       "(17.29181347150259, 29.041499330655956)"
      ]
     },
     "execution_count": 137,
     "metadata": {},
     "output_type": "execute_result"
    }
   ],
   "source": [
    "import re\n",
    "\n",
    "def answer_ten():\n",
    "    \n",
    "    spam = spam_data.loc[spam_data.target ==1,'text'].values\n",
    "    not_spam = spam_data.loc[spam_data.target==0,'text'].values\n",
    "    \n",
    "    non_word_chars = 0\n",
    "    for i,document in enumerate(spam):\n",
    "        non_word_chars += len(re.findall('[\\W]',document))\n",
    "\n",
    "    non_word_chars1=0\n",
    "    for i,document in enumerate(not_spam):\n",
    "        non_word_chars1 += len(re.findall('[\\W]',document))\n",
    "    #loop through non-word characters and sum the number for each document        \n",
    "        \n",
    "    mean_non_word_spam = non_word_chars/len(spam)\n",
    "    mean_non_word_not_spam = non_word_chars1/len(not_spam)\n",
    "    #calculate the mean non-word characters\n",
    "    \n",
    "    answer = (mean_non_word_not_spam,mean_non_word_spam)\n",
    "    \n",
    "    return answer\n",
    "\n",
    "answer_ten()"
   ]
  },
  {
   "cell_type": "markdown",
   "metadata": {},
   "source": [
    "### Question 11\n",
    "\n",
    "Fit and transform the training data X_train using a Count Vectorizer ignoring terms that have a document frequency strictly lower than **5** and using **character n-grams from n=2 to n=5.**\n",
    "\n",
    "To tell Count Vectorizer to use character n-grams pass in `analyzer='char_wb'` which creates character n-grams only from text inside word boundaries. This should make the model more robust to spelling mistakes.\n",
    "\n",
    "Using this document-term matrix and the following additional features:\n",
    "* the length of document (number of characters)\n",
    "* number of digits per document\n",
    "* **number of non-word characters (anything other than a letter, digit or underscore.)**\n",
    "\n",
    "fit a Logistic Regression model with regularization C=100. Then compute the area under the curve (AUC) score using the transformed test data.\n",
    "\n",
    "Also **find the 10 smallest and 10 largest coefficients from the model** and return them along with the AUC score in a tuple.\n",
    "\n",
    "The list of 10 smallest coefficients should be sorted smallest first, the list of 10 largest coefficients should be sorted largest first.\n",
    "\n",
    "The three features that were added to the document term matrix should have the following names should they appear in the list of coefficients:\n",
    "['length_of_doc', 'digit_count', 'non_word_char_count']\n",
    "\n",
    "*This function should return a tuple `(AUC score as a float, smallest coefs list, largest coefs list)`.*"
   ]
  },
  {
   "cell_type": "code",
   "execution_count": 6,
   "metadata": {
    "scrolled": false
   },
   "outputs": [
    {
     "data": {
      "text/plain": [
       "(0.9788593110707434,\n",
       " [('r!!', -0.8697461295504948),\n",
       "  ('she ', -0.8608629932165276),\n",
       "  ('me! ', -0.676964001155302),\n",
       "  ('rs ', -0.6670114014820965),\n",
       "  ('pla', -0.6148904210583909),\n",
       "  (\"y'\", -0.5795975181314154),\n",
       "  ('icial', -0.535070722852563),\n",
       "  ('£15', -0.5057624183583284),\n",
       "  ('ion, ', -0.4985158795239702),\n",
       "  (' day!', -0.4909425933312312),\n",
       "  (' cc', -0.4775877492161962),\n",
       "  ('temen', -0.4618854874555341),\n",
       "  ('7191', -0.45588747619365666),\n",
       "  ('ve, ', -0.44722003738264143),\n",
       "  ('lo', -0.44270815343141934),\n",
       "  ('0634', -0.4375459647929643),\n",
       "  (' 18+', -0.4373195073690611),\n",
       "  (\"&c'\", -0.431299727262755),\n",
       "  ('fail', -0.4113653499842397),\n",
       "  ('cial ', -0.4032015352074769)],\n",
       " [('non_word_char_count', 1.2122153375321212),\n",
       "  ('ap.', 0.5977741007061965),\n",
       "  ('must ', 0.5414877925456326),\n",
       "  (' argu', 0.5387569297164805),\n",
       "  ('holla', 0.5214762691520813),\n",
       "  ('sex', 0.5203579512412815),\n",
       "  ('invit', 0.5178665379427321),\n",
       "  ('rman', 0.5160910296891391),\n",
       "  ('*9 ', 0.5086638019581348),\n",
       "  ('num', 0.5026499714530483),\n",
       "  (' hug', 0.47873329647492735),\n",
       "  ('riv', 0.4544986870669778),\n",
       "  ('are. ', 0.4521411898431439),\n",
       "  ('top ', 0.4465342163669693),\n",
       "  ('ck! ', 0.4369573980112492),\n",
       "  ('ality', 0.41383426083102637),\n",
       "  ('3, ', 0.4131114718353168),\n",
       "  ('ued', 0.4080491861652322),\n",
       "  (' 80', 0.4021962595349482),\n",
       "  ('good ', 0.4021553264176646)])"
      ]
     },
     "execution_count": 6,
     "metadata": {},
     "output_type": "execute_result"
    }
   ],
   "source": [
    "from sklearn.feature_extraction.text import CountVectorizer\n",
    "from sklearn.linear_model import LogisticRegression\n",
    "from sklearn.metrics import roc_auc_score\n",
    "import string\n",
    "import re\n",
    "\n",
    "def answer_eleven():\n",
    "    \n",
    "    vect = (CountVectorizer(min_df=5,ngram_range=(2,5),analyzer = 'char_wb')\n",
    "            .fit(X_train))\n",
    "    #instantiate count vectorizer\n",
    "    \n",
    "    X_train_vectorized = vect.transform(X_train)\n",
    "    X_test_vectorized = vect.transform(X_test)\n",
    "    #transform X_trand and X_test\n",
    "    \n",
    "    X_train_doc_length = [len(str(document)) for document in X_train]\n",
    "    X_test_doc_length = [len(str(document)) for document in X_test]\n",
    "    #compute doc length for X_train and X_test\n",
    "    \n",
    "    X_train_digit_count = []\n",
    "    for i,document in enumerate(X_train):\n",
    "        (X_train_digit_count\n",
    "         .append(len([character for character in document if character in string.digits])))\n",
    "        \n",
    "    X_test_digit_count = []        \n",
    "    for i,document in enumerate(X_test):\n",
    "        X_test_digit_count.append(len([character for character in document if character in string.digits])) \n",
    "    #loop through each document in X_train/X_test and count the number of digits in each document. \n",
    "    #Create a list with the counts\n",
    "        \n",
    "    X_train_non_word_count = []\n",
    "    for i,document in enumerate(X_train):\n",
    "        X_train_non_word_count.append(len(re.findall('[\\W]',document)))\n",
    " \n",
    "    X_test_non_word_count =[]\n",
    "    for i,document in enumerate(X_test):\n",
    "        X_test_non_word_count.append(len(re.findall('[\\W]',document)))\n",
    "    #loop through document in X_train/X_test and count the number of non-word characters\n",
    "    #create a list with the counts\n",
    "    \n",
    "    X_train_vectorized1 = add_feature(X_train_vectorized,\n",
    "                                      [X_train_non_word_count,\n",
    "                                       X_train_doc_length,\n",
    "                                       X_train_digit_count])\n",
    "    X_test_vectorized1 = add_feature(X_test_vectorized,\n",
    "                                     [X_test_non_word_count,\n",
    "                                      X_test_doc_length,\n",
    "                                      X_test_digit_count])\n",
    "    #use add_feature function to add the new features to the original arrays\n",
    "    \n",
    "\n",
    "    clf = LogisticRegression(solver = 'liblinear',C=100).fit(X_train_vectorized1,y_train)\n",
    "    predicted = clf.predict(X_test_vectorized1)\n",
    "    auc_score = roc_auc_score(y_test,predicted)\n",
    "        \n",
    "    feat_list = list(vect.vocabulary_.keys())\n",
    "    \n",
    "    feat_list.extend(['length_of_doc', \n",
    "                      'digit_count', \n",
    "                      'non_word_char_count'])\n",
    "    #add the new feature names to the feature list    \n",
    "\n",
    "    combined_sorted = sorted(list(zip(feat_list,\n",
    "                                      list(clf.coef_.reshape(-1,)))), \n",
    "                             key = lambda x:x[1])\n",
    "    #combine the features and coefficients and sort by the coefficient value\n",
    "        \n",
    "    smallest_coefs_sorted = combined_sorted[:20]\n",
    "    largest_coefs_sorted = sorted(combined_sorted[-20:],\n",
    "                                  key = lambda x:x[1],\n",
    "                                  reverse = True)\n",
    "    #ascending for smallest coefs, descending for largest coefs\n",
    "    \n",
    "    answer = (auc_score,smallest_coefs_sorted,largest_coefs_sorted)\n",
    "    \n",
    "    return answer\n",
    "\n",
    "answer_eleven()"
   ]
  }
 ],
 "metadata": {
  "coursera": {
   "course_slug": "python-text-mining",
   "graded_item_id": "Pn19K",
   "launcher_item_id": "y1juS",
   "part_id": "ctlgo"
  },
  "kernelspec": {
   "display_name": "Python 3",
   "language": "python",
   "name": "python3"
  },
  "language_info": {
   "codemirror_mode": {
    "name": "ipython",
    "version": 3
   },
   "file_extension": ".py",
   "mimetype": "text/x-python",
   "name": "python",
   "nbconvert_exporter": "python",
   "pygments_lexer": "ipython3",
   "version": "3.8.2"
  }
 },
 "nbformat": 4,
 "nbformat_minor": 2
}
